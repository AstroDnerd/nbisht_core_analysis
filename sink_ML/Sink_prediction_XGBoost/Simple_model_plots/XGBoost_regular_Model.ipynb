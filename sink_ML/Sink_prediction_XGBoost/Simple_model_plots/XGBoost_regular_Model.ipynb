{
 "cells": [
  {
   "cell_type": "markdown",
   "metadata": {},
   "source": [
    "# DeepNN for Sink Particles\n",
    "> Created Oct. 2024 <br>\n",
    "> Nikhil Bisht<br>"
   ]
  },
  {
   "cell_type": "code",
   "execution_count": 5,
   "metadata": {},
   "outputs": [],
   "source": [
    "# standard system modules\n",
    "import os, sys\n",
    "\n",
    "# standard module for tabular data\n",
    "import pandas as pd\n",
    "\n",
    "# standard module for array manipulation\n",
    "import numpy as np\n",
    "\n",
    "# standard statistical module\n",
    "import scipy.stats as st\n",
    "\n",
    "# standard module for high-quality plots\n",
    "import matplotlib as mp\n",
    "import matplotlib.pyplot as plt\n",
    "mp.rcParams.update(mp.rcParamsDefault)\n",
    "%matplotlib inline\n",
    "\n",
    "# standard research-level machine learning toolkit from Meta (FKA: FaceBook)\n",
    "import torch\n",
    "import torch.nn as nn\n",
    "from sklearn.model_selection import train_test_split\n",
    "import xgboost as xgb\n",
    "\n",
    "\n",
    "# set a seed to ensure reproducibility\n",
    "seed = 128\n",
    "rnd  = np.random.RandomState(seed)"
   ]
  },
  {
   "cell_type": "markdown",
   "metadata": {},
   "source": [
    "## Constants"
   ]
  },
  {
   "cell_type": "code",
   "execution_count": 6,
   "metadata": {},
   "outputs": [
    {
     "name": "stdout",
     "output_type": "stream",
     "text": [
      "Available device: cpu \n",
      "9 8\n"
     ]
    }
   ],
   "source": [
    "DATAFILE  = '/data/cb1/nbisht/anvil_scratch/projects/128/B2/datasets/nb101_ML_dataset.csv'\n",
    "MODELFILE = 'nnmodel.dict'\n",
    "\n",
    "NTRAIN = 1600000\n",
    "NVALID =  100000\n",
    "NTEST  =  300000 #roughly\n",
    "\n",
    "TARGET = ['O_Clump_X', 'O_Clump_Y',\t'O_Clump_Z', 'O_Clump_Vx', 'O_Clump_Vy', 'O_Clump_Vz', 'O_Clump_density','O_t_end']\n",
    "FEATURES = ['Clump_id', 'X', 'Y', 'Z', 'Vx', 'Vy', 'Vz','Density', 't_hard']\n",
    "\n",
    "n_input = len(FEATURES)\n",
    "n_output = len(TARGET)\n",
    "\n",
    "#DEVICE = torch.device('cuda' if torch.cuda.is_available() else 'cpu')\n",
    "DEVICE = torch.device('cpu')\n",
    "\n",
    "print(f'Available device: {str(DEVICE):4s}')\n",
    "print(n_input, n_output)"
   ]
  },
  {
   "cell_type": "markdown",
   "metadata": {},
   "source": [
    "## Load data"
   ]
  },
  {
   "cell_type": "code",
   "execution_count": 103,
   "metadata": {},
   "outputs": [
    {
     "name": "stdout",
     "output_type": "stream",
     "text": [
      "2097152\n"
     ]
    }
   ],
   "source": [
    "df = pd.read_csv(DATAFILE)\n",
    "df['Clump_id'] = df['Clump_id'].astype('category')\n",
    "print(len(df))\n",
    "#df = df.sample(frac=1).reset_index(drop=True)\n",
    "df.head()\n",
    "#BIN CLUMP_ID -1 to reduce number \n",
    "reduce_imbalance = False\n",
    "if reduce_imbalance:\n",
    "    every_other = 5 #skip these many indices when filtering dataset. Will reduce the dataset by this many times\n",
    "    index_d0_1 = df[(df['Clump_id']==-1) & (df['O_Clump_density']<1)].index\n",
    "    remove_these = set(index_d0_1) - set(index_d0_1[::every_other])\n",
    "    df = df.drop(list(remove_these))\n",
    "    index_d1_10 = df[(df['Clump_id']==-1) & (df['O_Clump_density']<10) &(df['O_Clump_density']>1)].index\n",
    "    remove_these = set(index_d1_10) - set(index_d1_10[::every_other])\n",
    "    df = df.drop(list(remove_these))\n",
    "    index_d10_inf = df[(df['Clump_id']==-1) & (df['O_Clump_density']>10)].index\n",
    "    remove_these = set(index_d10_inf) - set(index_d10_inf[::every_other])\n",
    "    df = df.drop(list(remove_these))\n",
    "    print(\"df length is now:\",len(df))"
   ]
  },
  {
   "cell_type": "markdown",
   "metadata": {},
   "source": [
    "## Split data"
   ]
  },
  {
   "cell_type": "code",
   "execution_count": 159,
   "metadata": {},
   "outputs": [],
   "source": [
    "X, y = df[FEATURES], df[TARGET]\n",
    "X_train, X_test, y_train, y_test = train_test_split(X, y, random_state=seed)\n",
    "\n",
    "# Create regression matrices\n",
    "dtrain_reg = xgb.DMatrix(X_train, y_train, enable_categorical=True)\n",
    "dtest_reg = xgb.DMatrix(X_test, y_test, enable_categorical=True)"
   ]
  },
  {
   "cell_type": "markdown",
   "metadata": {},
   "source": [
    "# Training"
   ]
  },
  {
   "cell_type": "code",
   "execution_count": 173,
   "metadata": {},
   "outputs": [
    {
     "name": "stdout",
     "output_type": "stream",
     "text": [
      "No model to delete\n",
      "[0]\ttrain-rmse:4998.35020\tvalidation-rmse:5200.24776\n",
      "[10]\ttrain-rmse:1027.43763\tvalidation-rmse:1047.92885\n",
      "[20]\ttrain-rmse:943.93452\tvalidation-rmse:993.52073\n",
      "[30]\ttrain-rmse:880.53813\tvalidation-rmse:953.84419\n",
      "[40]\ttrain-rmse:834.90057\tvalidation-rmse:929.72387\n",
      "[50]\ttrain-rmse:799.74659\tvalidation-rmse:910.55595\n",
      "[60]\ttrain-rmse:762.26698\tvalidation-rmse:892.69499\n",
      "[70]\ttrain-rmse:738.67347\tvalidation-rmse:882.89868\n",
      "[80]\ttrain-rmse:707.68644\tvalidation-rmse:873.12361\n",
      "[90]\ttrain-rmse:691.73285\tvalidation-rmse:866.86301\n",
      "[100]\ttrain-rmse:663.78738\tvalidation-rmse:861.64499\n",
      "[110]\ttrain-rmse:652.79387\tvalidation-rmse:861.58419\n",
      "[120]\ttrain-rmse:628.42480\tvalidation-rmse:859.07892\n",
      "[130]\ttrain-rmse:615.01498\tvalidation-rmse:855.88657\n",
      "[140]\ttrain-rmse:607.93181\tvalidation-rmse:853.42314\n",
      "[150]\ttrain-rmse:591.74213\tvalidation-rmse:851.82921\n",
      "[160]\ttrain-rmse:570.84470\tvalidation-rmse:849.24885\n",
      "[170]\ttrain-rmse:564.51029\tvalidation-rmse:848.50949\n",
      "[180]\ttrain-rmse:554.20686\tvalidation-rmse:849.48532\n",
      "[190]\ttrain-rmse:542.74644\tvalidation-rmse:847.27046\n",
      "[200]\ttrain-rmse:538.94674\tvalidation-rmse:845.06860\n",
      "[210]\ttrain-rmse:526.00943\tvalidation-rmse:843.43795\n",
      "[220]\ttrain-rmse:518.90639\tvalidation-rmse:843.47486\n",
      "[230]\ttrain-rmse:506.47991\tvalidation-rmse:839.79860\n",
      "[240]\ttrain-rmse:502.25226\tvalidation-rmse:838.17607\n",
      "[250]\ttrain-rmse:494.56142\tvalidation-rmse:839.44155\n",
      "[260]\ttrain-rmse:485.09105\tvalidation-rmse:838.72119\n",
      "[270]\ttrain-rmse:470.58153\tvalidation-rmse:839.40091\n",
      "[280]\ttrain-rmse:464.85307\tvalidation-rmse:837.73840\n",
      "[290]\ttrain-rmse:460.15598\tvalidation-rmse:837.15973\n",
      "[300]\ttrain-rmse:450.66349\tvalidation-rmse:835.24583\n",
      "[310]\ttrain-rmse:444.69079\tvalidation-rmse:833.70799\n",
      "[320]\ttrain-rmse:438.43781\tvalidation-rmse:832.85802\n",
      "[330]\ttrain-rmse:432.63861\tvalidation-rmse:832.66006\n",
      "[340]\ttrain-rmse:423.54701\tvalidation-rmse:829.28395\n",
      "[350]\ttrain-rmse:416.99490\tvalidation-rmse:829.09668\n",
      "[360]\ttrain-rmse:407.41463\tvalidation-rmse:828.88732\n",
      "[370]\ttrain-rmse:404.07233\tvalidation-rmse:828.40311\n",
      "[380]\ttrain-rmse:400.71795\tvalidation-rmse:827.93212\n",
      "[390]\ttrain-rmse:394.01841\tvalidation-rmse:827.78028\n",
      "[400]\ttrain-rmse:386.62298\tvalidation-rmse:827.55339\n",
      "[410]\ttrain-rmse:382.45329\tvalidation-rmse:827.46943\n",
      "[420]\ttrain-rmse:381.49196\tvalidation-rmse:827.22139\n",
      "[430]\ttrain-rmse:375.74541\tvalidation-rmse:826.40592\n",
      "[440]\ttrain-rmse:372.51643\tvalidation-rmse:826.35714\n",
      "[450]\ttrain-rmse:369.94391\tvalidation-rmse:826.28779\n",
      "[460]\ttrain-rmse:367.48724\tvalidation-rmse:826.25029\n",
      "[470]\ttrain-rmse:364.43892\tvalidation-rmse:826.11183\n",
      "[480]\ttrain-rmse:361.08576\tvalidation-rmse:826.09839\n",
      "[490]\ttrain-rmse:358.38494\tvalidation-rmse:825.88128\n",
      "[500]\ttrain-rmse:356.89417\tvalidation-rmse:825.96296\n",
      "[510]\ttrain-rmse:352.81250\tvalidation-rmse:826.70448\n",
      "[520]\ttrain-rmse:350.37180\tvalidation-rmse:826.85973\n",
      "[530]\ttrain-rmse:346.28736\tvalidation-rmse:826.95621\n",
      "[539]\ttrain-rmse:344.49297\tvalidation-rmse:826.91313\n",
      "\n"
     ]
    }
   ],
   "source": [
    "#%%writefile nnmodel.py\n",
    "def define_and_train_model(n = 1000, cross_validation_nfold = 0):\n",
    "    try:\n",
    "        del model\n",
    "    except:\n",
    "        print(\"No model to delete\")\n",
    "    \n",
    "    # Define hyperparameters\n",
    "    params = {\"objective\": \"reg:squarederror\"}#, \"tree_method\": \"gpu_hist\"}\n",
    "    evals = [(dtrain_reg, \"train\"), (dtest_reg, \"validation\")]\n",
    "    model = xgb.train(\n",
    "    params=params,\n",
    "    dtrain=dtrain_reg,\n",
    "    num_boost_round=n,\n",
    "    evals=evals,\n",
    "    verbose_eval=10, # Every ten rounds\n",
    "    early_stopping_rounds=50, #Activate early stopping\n",
    "    )\n",
    "    print()\n",
    "    if cross_validation_nfold>0:\n",
    "        results = xgb.cv(\n",
    "        params, dtrain_reg,\n",
    "        num_boost_round=n,\n",
    "        nfold=cross_validation_nfold,\n",
    "        verbose_eval=10, # Every ten rounds\n",
    "        early_stopping_rounds=50,\n",
    "        )\n",
    "        best_rmse = results['test-rmse-mean'].min()\n",
    "        print(best_rmse)\n",
    "    return model\n",
    "model = define_and_train_model()"
   ]
  },
  {
   "cell_type": "code",
   "execution_count": 174,
   "metadata": {},
   "outputs": [
    {
     "name": "stdout",
     "output_type": "stream",
     "text": [
      "For Cores,  747171.0932774782 0.9963633422429186\n",
      "For Non Cores,  683128.8908151424 -2051313306989260.2\n"
     ]
    }
   ],
   "source": [
    "import sklearn.metrics as skm\n",
    "# standard measures of model performance\n",
    "preds = model.predict(dtest_reg)\n",
    "preds_df = pd.DataFrame(preds, index=X_test.index)\n",
    "#Core rmse\n",
    "core_indices = X_test[X_test[\"Clump_id\"] !=-1].index\n",
    "rmse = skm.mean_squared_error(y_test.loc[core_indices], preds_df.loc[core_indices])\n",
    "r2 = skm.r2_score(y_test.loc[core_indices],preds_df.loc[core_indices])\n",
    "print(\"For Cores, \",rmse,r2)\n",
    "\n",
    "#Non_Core rmse\n",
    "non_core_indices = X_test[X_test[\"Clump_id\"] ==-1].index\n",
    "rmse = skm.mean_squared_error(y_test.loc[non_core_indices], preds_df.loc[non_core_indices])\n",
    "r2 = skm.r2_score(y_test.loc[non_core_indices],preds_df.loc[non_core_indices])\n",
    "print(\"For Non Cores, \",rmse,r2)"
   ]
  },
  {
   "cell_type": "markdown",
   "metadata": {},
   "source": [
    "## Stats\n",
    "### Max Depth, Default = 6\n",
    "#### Reg: Mean Squared Error (~4 min to train)\n",
    "- For Cores, $RMSE: 1019423.8676899462; R2:                   0.9963610195367045$\n",
    "- For Non Cores, $RMSE: 691423.0340961919; R2: -2051313306989260.2$   \n",
    "#### Reg: Mean Absolute Error   (~107 min to train)\n",
    "For Cores,  7746916.249471188 0.9932377146982748\n",
    "For Non Cores,  1261673.1667665534 -2461632269410218.0\n",
    "\n",
    "#### Reg: Pseudo Huber Error, delta = 0.001 (~20s min to train)\n",
    "For Cores,  5251149496.88155 -16153185246.33833\n",
    "For Non Cores,  1215310709.10951 -3.0784832358542043e+39\n",
    "\n",
    "### Max Depth=7\n",
    "#### Reg: Mean Squared Error (~4 min to train)\n",
    "For Cores,  747171.0932774782 0.9963633422429186\n",
    "For Non Cores,  683128.8908151424 -2051313306989260.2 "
   ]
  },
  {
   "cell_type": "markdown",
   "metadata": {},
   "source": []
  }
 ],
 "metadata": {
  "kernelspec": {
   "display_name": "Python 3 (ipykernel)",
   "language": "python",
   "name": "python3"
  },
  "language_info": {
   "codemirror_mode": {
    "name": "ipython",
    "version": 3
   },
   "file_extension": ".py",
   "mimetype": "text/x-python",
   "name": "python",
   "nbconvert_exporter": "python",
   "pygments_lexer": "ipython3",
   "version": "3.10.12"
  }
 },
 "nbformat": 4,
 "nbformat_minor": 4
}
