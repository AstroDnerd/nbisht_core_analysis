{
 "cells": [
  {
   "cell_type": "markdown",
   "metadata": {},
   "source": [
    "# DeepNN for Sink Particles\n",
    "> Created Oct. 2024 <br>\n",
    "> Nikhil Bisht<br>"
   ]
  },
  {
   "cell_type": "code",
   "execution_count": 70,
   "metadata": {},
   "outputs": [],
   "source": [
    "# standard system modules\n",
    "import os, sys\n",
    "\n",
    "# standard module for tabular data\n",
    "import pandas as pd\n",
    "\n",
    "# standard module for array manipulation\n",
    "import numpy as np\n",
    "\n",
    "# standard statistical module\n",
    "import scipy.stats as st\n",
    "\n",
    "# standard module for high-quality plots\n",
    "import matplotlib as mp\n",
    "import matplotlib.pyplot as plt\n",
    "mp.rcParams.update(mp.rcParamsDefault)\n",
    "%matplotlib inline\n",
    "\n",
    "# standard research-level machine learning toolkit from Meta (FKA: FaceBook)\n",
    "import torch\n",
    "import torch.nn as nn\n",
    "\n",
    "\n",
    "# set a seed to ensure reproducibility\n",
    "seed = 128\n",
    "rnd  = np.random.RandomState(seed)"
   ]
  },
  {
   "cell_type": "markdown",
   "metadata": {},
   "source": [
    "## Constants"
   ]
  },
  {
   "cell_type": "code",
   "execution_count": 71,
   "metadata": {},
   "outputs": [
    {
     "name": "stdout",
     "output_type": "stream",
     "text": [
      "Available device: cpu \n",
      "8 8\n"
     ]
    }
   ],
   "source": [
    "DATAFILE  = '/data/cb1/nbisht/anvil_scratch/projects/128/B2/datasets/final_88/nb101_ML_dataset.csv'\n",
    "MODELFILE = 'nnmodel.dict'\n",
    "\n",
    "NTRAIN = 1600000\n",
    "NVALID =  100000\n",
    "NTEST  =  300000 #roughly\n",
    "\n",
    "TARGET = ['O_Clump_X', 'O_Clump_Y',\t'O_Clump_Z', 'O_Clump_Vx', 'O_Clump_Vy', 'O_Clump_Vz', 'O_Clump_density','O_t_end']\n",
    "FEATURES = ['X', 'Y', 'Z', 'Density', 'Vx', 'Vy', 'Vz', 't_hard']\n",
    "\n",
    "n_input = len(FEATURES)\n",
    "n_output = len(TARGET)\n",
    "\n",
    "#DEVICE = torch.device('cuda' if torch.cuda.is_available() else 'cpu')\n",
    "DEVICE = torch.device('cpu')\n",
    "\n",
    "print(f'Available device: {str(DEVICE):4s}')\n",
    "print(n_input, n_output)"
   ]
  },
  {
   "cell_type": "markdown",
   "metadata": {},
   "source": [
    "## Load data"
   ]
  },
  {
   "cell_type": "code",
   "execution_count": 72,
   "metadata": {},
   "outputs": [
    {
     "name": "stdout",
     "output_type": "stream",
     "text": [
      "2097152\n"
     ]
    },
    {
     "data": {
      "text/html": [
       "<div>\n",
       "<style scoped>\n",
       "    .dataframe tbody tr th:only-of-type {\n",
       "        vertical-align: middle;\n",
       "    }\n",
       "\n",
       "    .dataframe tbody tr th {\n",
       "        vertical-align: top;\n",
       "    }\n",
       "\n",
       "    .dataframe thead th {\n",
       "        text-align: right;\n",
       "    }\n",
       "</style>\n",
       "<table border=\"1\" class=\"dataframe\">\n",
       "  <thead>\n",
       "    <tr style=\"text-align: right;\">\n",
       "      <th></th>\n",
       "      <th>Unnamed: 0</th>\n",
       "      <th>Clump_id</th>\n",
       "      <th>Particle_id</th>\n",
       "      <th>X</th>\n",
       "      <th>Y</th>\n",
       "      <th>Z</th>\n",
       "      <th>Density</th>\n",
       "      <th>Vx</th>\n",
       "      <th>Vy</th>\n",
       "      <th>Vz</th>\n",
       "      <th>t_hard</th>\n",
       "      <th>O_Clump_X</th>\n",
       "      <th>O_Clump_Y</th>\n",
       "      <th>O_Clump_Z</th>\n",
       "      <th>O_Clump_Vx</th>\n",
       "      <th>O_Clump_Vy</th>\n",
       "      <th>O_Clump_Vz</th>\n",
       "      <th>O_Clump_density</th>\n",
       "      <th>O_t_end</th>\n",
       "    </tr>\n",
       "  </thead>\n",
       "  <tbody>\n",
       "    <tr>\n",
       "      <th>0</th>\n",
       "      <td>264063</td>\n",
       "      <td>-1</td>\n",
       "      <td>394481.0</td>\n",
       "      <td>0.839559</td>\n",
       "      <td>0.607568</td>\n",
       "      <td>0.698377</td>\n",
       "      <td>0.486479</td>\n",
       "      <td>-1.236140</td>\n",
       "      <td>-4.322605</td>\n",
       "      <td>-0.133227</td>\n",
       "      <td>0.403104</td>\n",
       "      <td>0.845738</td>\n",
       "      <td>0.557634</td>\n",
       "      <td>0.698524</td>\n",
       "      <td>1.578540</td>\n",
       "      <td>-4.711098</td>\n",
       "      <td>-0.473873</td>\n",
       "      <td>0.315008</td>\n",
       "      <td>0.66003</td>\n",
       "    </tr>\n",
       "    <tr>\n",
       "      <th>1</th>\n",
       "      <td>1291960</td>\n",
       "      <td>-1</td>\n",
       "      <td>1965173.0</td>\n",
       "      <td>0.922592</td>\n",
       "      <td>0.418185</td>\n",
       "      <td>0.178346</td>\n",
       "      <td>1.115641</td>\n",
       "      <td>-1.588975</td>\n",
       "      <td>0.351044</td>\n",
       "      <td>-1.018875</td>\n",
       "      <td>0.403104</td>\n",
       "      <td>0.901377</td>\n",
       "      <td>0.417731</td>\n",
       "      <td>0.172608</td>\n",
       "      <td>-1.384559</td>\n",
       "      <td>0.102437</td>\n",
       "      <td>1.133220</td>\n",
       "      <td>2.650463</td>\n",
       "      <td>0.66003</td>\n",
       "    </tr>\n",
       "    <tr>\n",
       "      <th>2</th>\n",
       "      <td>238485</td>\n",
       "      <td>-1</td>\n",
       "      <td>345994.0</td>\n",
       "      <td>0.578971</td>\n",
       "      <td>0.727231</td>\n",
       "      <td>0.512433</td>\n",
       "      <td>0.704669</td>\n",
       "      <td>0.243950</td>\n",
       "      <td>0.535167</td>\n",
       "      <td>-5.194241</td>\n",
       "      <td>0.403104</td>\n",
       "      <td>0.586064</td>\n",
       "      <td>0.739434</td>\n",
       "      <td>0.472113</td>\n",
       "      <td>1.300100</td>\n",
       "      <td>1.987176</td>\n",
       "      <td>-3.683968</td>\n",
       "      <td>0.453572</td>\n",
       "      <td>0.66003</td>\n",
       "    </tr>\n",
       "    <tr>\n",
       "      <th>3</th>\n",
       "      <td>418236</td>\n",
       "      <td>-1</td>\n",
       "      <td>618690.0</td>\n",
       "      <td>0.067892</td>\n",
       "      <td>0.526059</td>\n",
       "      <td>0.699241</td>\n",
       "      <td>3.962615</td>\n",
       "      <td>3.200534</td>\n",
       "      <td>-1.169926</td>\n",
       "      <td>1.358422</td>\n",
       "      <td>0.403104</td>\n",
       "      <td>0.100269</td>\n",
       "      <td>0.522349</td>\n",
       "      <td>0.711624</td>\n",
       "      <td>3.270709</td>\n",
       "      <td>0.463354</td>\n",
       "      <td>0.981538</td>\n",
       "      <td>3.286574</td>\n",
       "      <td>0.66003</td>\n",
       "    </tr>\n",
       "    <tr>\n",
       "      <th>4</th>\n",
       "      <td>1115808</td>\n",
       "      <td>-1</td>\n",
       "      <td>1732433.0</td>\n",
       "      <td>0.127301</td>\n",
       "      <td>0.877493</td>\n",
       "      <td>0.196462</td>\n",
       "      <td>0.202221</td>\n",
       "      <td>-1.609049</td>\n",
       "      <td>-5.184054</td>\n",
       "      <td>-4.036629</td>\n",
       "      <td>0.403104</td>\n",
       "      <td>0.108136</td>\n",
       "      <td>0.832620</td>\n",
       "      <td>0.141244</td>\n",
       "      <td>-0.282472</td>\n",
       "      <td>-4.396537</td>\n",
       "      <td>-7.265655</td>\n",
       "      <td>0.167511</td>\n",
       "      <td>0.66003</td>\n",
       "    </tr>\n",
       "  </tbody>\n",
       "</table>\n",
       "</div>"
      ],
      "text/plain": [
       "   Unnamed: 0  Clump_id  Particle_id         X         Y         Z   Density  \\\n",
       "0      264063        -1     394481.0  0.839559  0.607568  0.698377  0.486479   \n",
       "1     1291960        -1    1965173.0  0.922592  0.418185  0.178346  1.115641   \n",
       "2      238485        -1     345994.0  0.578971  0.727231  0.512433  0.704669   \n",
       "3      418236        -1     618690.0  0.067892  0.526059  0.699241  3.962615   \n",
       "4     1115808        -1    1732433.0  0.127301  0.877493  0.196462  0.202221   \n",
       "\n",
       "         Vx        Vy        Vz    t_hard  O_Clump_X  O_Clump_Y  O_Clump_Z  \\\n",
       "0 -1.236140 -4.322605 -0.133227  0.403104   0.845738   0.557634   0.698524   \n",
       "1 -1.588975  0.351044 -1.018875  0.403104   0.901377   0.417731   0.172608   \n",
       "2  0.243950  0.535167 -5.194241  0.403104   0.586064   0.739434   0.472113   \n",
       "3  3.200534 -1.169926  1.358422  0.403104   0.100269   0.522349   0.711624   \n",
       "4 -1.609049 -5.184054 -4.036629  0.403104   0.108136   0.832620   0.141244   \n",
       "\n",
       "   O_Clump_Vx  O_Clump_Vy  O_Clump_Vz  O_Clump_density  O_t_end  \n",
       "0    1.578540   -4.711098   -0.473873         0.315008  0.66003  \n",
       "1   -1.384559    0.102437    1.133220         2.650463  0.66003  \n",
       "2    1.300100    1.987176   -3.683968         0.453572  0.66003  \n",
       "3    3.270709    0.463354    0.981538         3.286574  0.66003  \n",
       "4   -0.282472   -4.396537   -7.265655         0.167511  0.66003  "
      ]
     },
     "execution_count": 72,
     "metadata": {},
     "output_type": "execute_result"
    }
   ],
   "source": [
    "df = pd.read_csv(DATAFILE)\n",
    "print(len(df))\n",
    "df = df.sample(frac=1).reset_index(drop=True)\n",
    "df.head()"
   ]
  },
  {
   "cell_type": "code",
   "execution_count": 64,
   "metadata": {},
   "outputs": [],
   "source": []
  },
  {
   "cell_type": "code",
   "execution_count": 65,
   "metadata": {},
   "outputs": [
    {
     "data": {
      "image/png": "[encoded data removed]",
      "text/plain": [
       "<Figure size 450x400 with 1 Axes>"
      ]
     },
     "metadata": {},
     "output_type": "display_data"
    }
   ],
   "source": [
    "def plot_data():\n",
    "    \n",
    "    fig = plt.figure(figsize=(4.5, 4))\n",
    "    \n",
    "    ax  = fig.add_subplot(111)\n",
    "    \n",
    "    tickmarks = [-1.0, -0.5, 0.0, 0.5, 1.0]\n",
    "    \n",
    "    ax.set_xlim(0, 1)\n",
    "    ax.set_xlabel('X', fontsize=18)\n",
    "    ax.set_xticks(tickmarks)\n",
    "    \n",
    "    ax.set_ylim(0, 1)\n",
    "    ax.set_ylabel('Y', fontsize=18)\n",
    "    ax.set_yticks(tickmarks)\n",
    "    \n",
    "    d1 = df[df.Clump_id ==2]\n",
    "    xp, yp = d1.X[:1000], d1.Y[:1000]\n",
    "    ax.scatter(xp, yp, s=4.0, color='red')\n",
    "    \n",
    "    d2 = df[df.Clump_id ==31]\n",
    "    xp, yp = d2.X[:1000], d2.Y[:1000]\n",
    "    ax.scatter(xp, yp, s=4.0, color='royalblue');\n",
    "    \n",
    "    fig.tight_layout()\n",
    "    \n",
    "    plt.show()\n",
    "\n",
    "plot_data()"
   ]
  },
  {
   "cell_type": "markdown",
   "metadata": {},
   "source": [
    "## Split data"
   ]
  },
  {
   "cell_type": "code",
   "execution_count": 73,
   "metadata": {},
   "outputs": [
    {
     "name": "stdout",
     "output_type": "stream",
     "text": [
      "1600000\n",
      "100000\n",
      "397152\n"
     ]
    }
   ],
   "source": [
    "train_data  = df[:NTRAIN]\n",
    "print(len(train_data))\n",
    "\n",
    "valid_data  = df[NTRAIN:NTRAIN+NVALID]\n",
    "print(len(valid_data))\n",
    "\n",
    "test_data = df[NTRAIN+NVALID:]\n",
    "print(len(test_data))"
   ]
  },
  {
   "cell_type": "markdown",
   "metadata": {},
   "source": [
    "## Convert to tensors"
   ]
  },
  {
   "cell_type": "code",
   "execution_count": 74,
   "metadata": {},
   "outputs": [
    {
     "data": {
      "text/plain": [
       "(torch.Size([1600000, 8]), torch.Size([1600000, 8]))"
      ]
     },
     "execution_count": 74,
     "metadata": {},
     "output_type": "execute_result"
    }
   ],
   "source": [
    "def dataframe2tensor(df, target, source):\n",
    "    # change from pandas dataframe to PyTorch tensors\n",
    "    # and load data to device.\n",
    "    x = torch.tensor(df[source].to_numpy()).float().to(DEVICE)\n",
    "    y = torch.tensor(df[target].to_numpy()).float().to(DEVICE)\n",
    "    return x, y\n",
    "\n",
    "train_x, train_y = dataframe2tensor(train_data, TARGET, FEATURES)\n",
    "valid_x, valid_y = dataframe2tensor(valid_data, TARGET, FEATURES)\n",
    "test_x,  test_y  = dataframe2tensor(test_data,  TARGET, FEATURES)\n",
    "\n",
    "train_x.shape, train_y.shape"
   ]
  },
  {
   "cell_type": "markdown",
   "metadata": {},
   "source": [
    "## Some ML Utilities"
   ]
  },
  {
   "cell_type": "code",
   "execution_count": 75,
   "metadata": {},
   "outputs": [],
   "source": [
    "def get_batch(x, y, batch_size, ii):\n",
    "    # cycle through batches of training data sequentially\n",
    "    K = int(len(x) / batch_size + 0.5) # number of batches / epoch\n",
    "    jj = ii % K\n",
    "    start = jj * batch_size\n",
    "    end = start + batch_size - 1\n",
    "    if end > len(x)-1:\n",
    "        end = len(x)-1\n",
    "    return x[start: end+1], y[start: end+1], jj\n",
    "\n",
    "def get_random_batch(x, y, batch_size):\n",
    "    # selects at random \"batch_size\" integers from \n",
    "    # the range [0, batch_size-1] corresponding to the\n",
    "    # row indices of the training data\n",
    "    rows = torch.randint(0, len(x)-1, size=(batch_size,))\n",
    "    return x[rows], y[rows]\n",
    "        \n",
    "def validate(model, avloss, x, y):\n",
    "    # set to evaluation mode so that any training \n",
    "    # specific operations are disabled.\n",
    "    model.eval()\n",
    "    with torch.no_grad(): # no need to compute gradients wrt. x and y\n",
    "        # reshape to ensure that f and y are of the same shape!\n",
    "        f = model(x).reshape(y.shape)\n",
    "    return avloss(f, y)\n",
    "\n",
    "def number_of_parameters(model):\n",
    "    return sum(p.numel() for p in model.parameters() if p.requires_grad)\n",
    "\n",
    "def plot_loss_curve(losses):\n",
    "    \n",
    "    xx, yy_t, yy_v = losses\n",
    "    \n",
    "    # create an empty figure\n",
    "    fig = plt.figure(figsize=(5, 3.8))\n",
    "    fig.tight_layout()\n",
    "    \n",
    "    # add a subplot to it\n",
    "    nrows, ncols, index = 1,1,1\n",
    "    ax  = fig.add_subplot(nrows,ncols,index)\n",
    "    \n",
    "    ax.plot(xx, yy_t, color='red',  lw=1, label='training loss')\n",
    "    ax.plot(xx, yy_v, color='blue', lw=1, label='validation loss')\n",
    "    ax.legend()\n",
    "    \n",
    "    ax.set_xlabel('iterations')\n",
    "    ax.set_ylabel('average loss')\n",
    "    ax.set_xscale('log')\n",
    "    ax.set_yscale('log')\n",
    "    ax.grid(True, which=\"both\", linestyle='-')\n",
    "\n",
    "    plt.show()"
   ]
  },
  {
   "cell_type": "markdown",
   "metadata": {},
   "source": [
    "## Define the fully-connected neural network\n",
    "\n",
    "### $\\texttt{ReLU}(x)$\n",
    "\n",
    "$$\\text{Relu}(x) = max(0, z)$$\n",
    "\n",
    "\n",
    "### LayerNorm\n",
    "\n",
    "$$y = \\frac{(x - E[x])}{\\sqrt{V(x)}},$$\n",
    "\n",
    "where the averaging is over the layer."
   ]
  },
  {
   "cell_type": "code",
   "execution_count": 76,
   "metadata": {},
   "outputs": [
    {
     "data": {
      "text/plain": [
       "8"
      ]
     },
     "execution_count": 76,
     "metadata": {},
     "output_type": "execute_result"
    }
   ],
   "source": [
    "n_output"
   ]
  },
  {
   "cell_type": "code",
   "execution_count": 77,
   "metadata": {},
   "outputs": [],
   "source": [
    "%%writefile nnmodel.py\n",
    "import torch.nn as nn\n",
    "H = 4\n",
    "\n",
    "model = nn.Sequential(nn.Linear(n_input, H), nn.ReLU(), nn.BatchNorm1d(H), nn.Dropout(0.2),\n",
    "                      nn.Linear(H, int(H/2)), nn.ReLU(),\n",
    "                      nn.Linear(int(H/2), n_output))\n"
   ]
  },
  {
   "cell_type": "markdown",
   "metadata": {},
   "source": [
    "## Train model"
   ]
  },
  {
   "cell_type": "code",
   "execution_count": 78,
   "metadata": {},
   "outputs": [
    {
     "name": "stdout",
     "output_type": "stream",
     "text": [
      "78\n"
     ]
    },
    {
     "data": {
      "text/plain": [
       "Sequential(\n",
       "  (0): Linear(in_features=8, out_features=4, bias=True)\n",
       "  (1): ReLU()\n",
       "  (2): BatchNorm1d(4, eps=1e-05, momentum=0.1, affine=True, track_running_stats=True)\n",
       "  (3): Dropout(p=0.2, inplace=False)\n",
       "  (4): Linear(in_features=4, out_features=2, bias=True)\n",
       "  (5): ReLU()\n",
       "  (6): Linear(in_features=2, out_features=8, bias=True)\n",
       ")"
      ]
     },
     "execution_count": 78,
     "metadata": {},
     "output_type": "execute_result"
    }
   ],
   "source": [
    "#from nnmodel import model\n",
    "\n",
    "learning_rate = 1.e-4\n",
    "optimizer     = torch.optim.Adam(model.parameters(), lr=learning_rate) \n",
    "\n",
    "n_iterations  = 25000\n",
    "n_batch  = 32\n",
    "n_step   = 10\n",
    "n_epochs = 1\n",
    "n_valid  = len(valid_x)\n",
    "train_x2 = train_x[:n_valid]\n",
    "train_y2 = train_y[:n_valid]\n",
    "\n",
    "emprisk  = nn.HuberLoss(delta=0.0005)\n",
    "print(number_of_parameters(model))\n",
    "model"
   ]
  },
  {
   "cell_type": "code",
   "execution_count": 79,
   "metadata": {},
   "outputs": [
    {
     "name": "stdout",
     "output_type": "stream",
     "text": [
      "|        1|    24990|8.518e-02|8.404e-02|\n"
     ]
    },
    {
     "data": {
      "image/png": "[encoded data removed]",
      "text/plain": [
       "<Figure size 500x380 with 1 Axes>"
      ]
     },
     "metadata": {},
     "output_type": "display_data"
    }
   ],
   "source": [
    "USE_SEQUENTIAL_BATCHES = True\n",
    "\n",
    "epoch = 0\n",
    "\n",
    "X = []\n",
    "T = []\n",
    "V = []\n",
    "\n",
    "min_avloss = float('inf')\n",
    "\n",
    "while epoch<n_epochs:\n",
    "    for ii in range(n_iterations):\n",
    "\n",
    "        # clear previous gradients\n",
    "        \n",
    "        optimizer.zero_grad()\n",
    "        \n",
    "        # set mode to training so that training specific \n",
    "        # operations such as dropout are enabled.\n",
    "        \n",
    "        model.train()\n",
    "\n",
    "        # get a batch of data \n",
    "\n",
    "        if USE_SEQUENTIAL_BATCHES:\n",
    "            x, y, jj = get_batch(train_x, train_y, n_batch, ii)\n",
    "            if jj == 0:\n",
    "                epoch += 1\n",
    "        else:\n",
    "            x, y = get_random_batch(train_x, train_y, n_batch)  \n",
    "        \n",
    "        f = model(x).reshape(y.shape)\n",
    "\n",
    "        R = emprisk(f, y)\n",
    "        \n",
    "        R.backward()  # compute gradients of with respect to NN parameters\n",
    "\n",
    "        optimizer.step()    # advance one step in the space of NN parameters\n",
    "\n",
    "        if ii % n_step == 0:\n",
    "            \n",
    "            t_loss = validate(model, emprisk, train_x2, train_y2).detach()\n",
    "            v_loss = validate(model, emprisk, valid_x,  valid_y).detach()\n",
    "\n",
    "            print(f'\\r|{epoch:9d}|{ii:9d}|{t_loss:9.3e}|{v_loss:9.3e}|', end='')\n",
    "\n",
    "            X.append(ii)\n",
    "            T.append(float(t_loss))\n",
    "            V.append(float(v_loss))\n",
    "\n",
    "            if v_loss < 0.995 * min_avloss:\n",
    "                min_avloss = v_loss\n",
    "                torch.save(model.state_dict(), MODELFILE)\n",
    "            \n",
    "    print()\n",
    "\n",
    "plot_loss_curve([X, T, V])"
   ]
  },
  {
   "cell_type": "markdown",
   "metadata": {},
   "source": [
    "# TEST"
   ]
  },
  {
   "cell_type": "code",
   "execution_count": 80,
   "metadata": {},
   "outputs": [
    {
     "ename": "NameError",
     "evalue": "name 'n_input' is not defined",
     "output_type": "error",
     "traceback": [
      "\u001b[0;31m---------------------------------------------------------------------------\u001b[0m",
      "\u001b[0;31mNameError\u001b[0m                                 Traceback (most recent call last)",
      "Cell \u001b[0;32mIn[80], line 1\u001b[0m\n\u001b[0;32m----> 1\u001b[0m \u001b[38;5;28;01mfrom\u001b[39;00m \u001b[38;5;21;01mnnmodel\u001b[39;00m \u001b[38;5;28;01mimport\u001b[39;00m model\n\u001b[1;32m      3\u001b[0m model\u001b[38;5;241m.\u001b[39mload_state_dict(torch\u001b[38;5;241m.\u001b[39mload(MODELFILE))\n\u001b[1;32m      5\u001b[0m model\n",
      "File \u001b[0;32m~/scripts/nbisht_core_analysis/sink_ML/Sink_prediction_DeepNN/nnmodel.py:3\u001b[0m\n\u001b[1;32m      1\u001b[0m \u001b[38;5;28;01mimport\u001b[39;00m \u001b[38;5;21;01mtorch\u001b[39;00m\u001b[38;5;21;01m.\u001b[39;00m\u001b[38;5;21;01mnn\u001b[39;00m \u001b[38;5;28;01mas\u001b[39;00m \u001b[38;5;21;01mnn\u001b[39;00m\n\u001b[1;32m      2\u001b[0m H \u001b[38;5;241m=\u001b[39m \u001b[38;5;241m64\u001b[39m\n\u001b[0;32m----> 3\u001b[0m model \u001b[38;5;241m=\u001b[39m nn\u001b[38;5;241m.\u001b[39mSequential(nn\u001b[38;5;241m.\u001b[39mLinear(\u001b[43mn_input\u001b[49m, H), nn\u001b[38;5;241m.\u001b[39mReLU(), nn\u001b[38;5;241m.\u001b[39mBatchNorm1d(H), nn\u001b[38;5;241m.\u001b[39mDropout(\u001b[38;5;241m0.2\u001b[39m),\n\u001b[1;32m      4\u001b[0m                       nn\u001b[38;5;241m.\u001b[39mLinear(H, \u001b[38;5;241m2\u001b[39m\u001b[38;5;241m*\u001b[39mH), nn\u001b[38;5;241m.\u001b[39mReLU(), nn\u001b[38;5;241m.\u001b[39mLayerNorm(H), nn\u001b[38;5;241m.\u001b[39mDropout(\u001b[38;5;241m0.3\u001b[39m),\n\u001b[1;32m      5\u001b[0m                       nn\u001b[38;5;241m.\u001b[39mLinear(\u001b[38;5;241m2\u001b[39m\u001b[38;5;241m*\u001b[39mH, H), nn\u001b[38;5;241m.\u001b[39mReLU(), nn\u001b[38;5;241m.\u001b[39mLayerNorm(H),\n\u001b[1;32m      6\u001b[0m                       nn\u001b[38;5;241m.\u001b[39mLinear(H, H\u001b[38;5;241m/\u001b[39m\u001b[38;5;241m2\u001b[39m), nn\u001b[38;5;241m.\u001b[39mReLU(),\n\u001b[1;32m      7\u001b[0m                       nn\u001b[38;5;241m.\u001b[39mLinear(H\u001b[38;5;241m/\u001b[39m\u001b[38;5;241m2\u001b[39m, n_output))\n",
      "\u001b[0;31mNameError\u001b[0m: name 'n_input' is not defined"
     ]
    }
   ],
   "source": [
    "from nnmodel import model\n",
    "\n",
    "model.load_state_dict(torch.load(MODELFILE))\n",
    "\n",
    "model"
   ]
  },
  {
   "cell_type": "code",
   "execution_count": null,
   "metadata": {},
   "outputs": [],
   "source": [
    "X = test_data[INPUTS].to_numpy()\n",
    "Y = test_data[TARGET].to_numpy()\n",
    "\n",
    "X.shape, Y.shape"
   ]
  },
  {
   "cell_type": "code",
   "execution_count": null,
   "metadata": {},
   "outputs": [],
   "source": [
    "fexact = ExactDensity()\n",
    "\n",
    "X1 = X[:, 0] # extract all rows (:) of column 0\n",
    "X2 = X[:, 1] # extract all rows (:) of column 1\n",
    "\n",
    "Dexact = fexact.prob(X1, X2)\n",
    "\n",
    "Dexact.shape"
   ]
  },
  {
   "cell_type": "code",
   "execution_count": null,
   "metadata": {},
   "outputs": [],
   "source": [
    "# standard measures of model performance\n",
    "from sklearn.metrics import roc_curve, auc\n",
    "\n",
    "def plot_ROC(y, D):\n",
    "    \n",
    "    bkg, sig, _ = roc_curve(y, D)\n",
    "    \n",
    "    roc_auc = auc(bkg, sig)\n",
    "    plt.figure(figsize=(3.5, 3.5))\n",
    "\n",
    "    plt.xlim([0.0, 1.0])\n",
    "    plt.ylim([0.0, 1.0])\n",
    "    plt.xlabel('$f_0(D)$', fontsize=12)\n",
    "    plt.ylabel('$f_1(D)$', fontsize=12)\n",
    "    \n",
    "    plt.plot(bkg, sig, color='red',\n",
    "             lw=1, label='ROC curve, AUC = %0.2f)' % roc_auc)\n",
    "    \n",
    "    plt.plot([0, 1], [0, 1], color='blue', lw=1, linestyle='--')\n",
    "\n",
    "    plt.legend(loc=\"lower right\", fontsize=11)\n",
    "    \n",
    "    plt.savefig(\"ROC.png\")\n",
    "    plt.show()"
   ]
  },
  {
   "cell_type": "code",
   "execution_count": null,
   "metadata": {},
   "outputs": [],
   "source": [
    "plot_ROC(Y, Dexact)\n",
    "plot_ROC(Y, Dapprox)"
   ]
  }
 ],
 "metadata": {
  "kernelspec": {
   "display_name": "Python 3 (ipykernel)",
   "language": "python",
   "name": "python3"
  },
  "language_info": {
   "codemirror_mode": {
    "name": "ipython",
    "version": 3
   },
   "file_extension": ".py",
   "mimetype": "text/x-python",
   "name": "python",
   "nbconvert_exporter": "python",
   "pygments_lexer": "ipython3",
   "version": "3.10.12"
  }
 },
 "nbformat": 4,
 "nbformat_minor": 4
}
