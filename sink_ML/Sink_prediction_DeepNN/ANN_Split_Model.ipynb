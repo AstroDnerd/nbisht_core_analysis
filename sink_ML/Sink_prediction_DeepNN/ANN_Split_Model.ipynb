{
 "cells": [
  {
   "cell_type": "markdown",
   "metadata": {},
   "source": [
    "# DeepNN for Sink Particles\n",
    "> Created Oct. 2024 <br>\n",
    "> Nikhil Bisht<br>"
   ]
  },
  {
   "cell_type": "code",
   "execution_count": 13,
   "metadata": {},
   "outputs": [],
   "source": [
    "# standard system modules\n",
    "import os, sys\n",
    "\n",
    "# standard module for tabular data\n",
    "import pandas as pd\n",
    "\n",
    "# standard module for array manipulation\n",
    "import numpy as np\n",
    "\n",
    "# standard statistical module\n",
    "import scipy.stats as st\n",
    "\n",
    "# standard module for high-quality plots\n",
    "import matplotlib as mp\n",
    "import matplotlib.pyplot as plt\n",
    "mp.rcParams.update(mp.rcParamsDefault)\n",
    "%matplotlib inline\n",
    "\n",
    "# standard research-level machine learning toolkit from Meta (FKA: FaceBook)\n",
    "import torch\n",
    "import torch.nn as nn\n",
    "\n",
    "\n",
    "# set a seed to ensure reproducibility\n",
    "seed = 128\n",
    "rnd  = np.random.RandomState(seed)"
   ]
  },
  {
   "cell_type": "markdown",
   "metadata": {},
   "source": [
    "## Constants"
   ]
  },
  {
   "cell_type": "code",
   "execution_count": 59,
   "metadata": {},
   "outputs": [
    {
     "name": "stdout",
     "output_type": "stream",
     "text": [
      "Available device: cpu \n",
      "8 8\n"
     ]
    }
   ],
   "source": [
    "DATAFILE  = '/data/cb1/nbisht/anvil_scratch/projects/128/B2/datasets/final_88/nb101_ML_dataset.csv'\n",
    "MODELFILE = 'nnmodel.dict'\n",
    "\n",
    "#In percentage\n",
    "NTRAIN_percentage =  0.8\n",
    "NVALID_percentage =  0.05\n",
    "NTEST_percentage  =  0.15\n",
    "\n",
    "TARGET = ['O_Clump_X', 'O_Clump_Y',\t'O_Clump_Z', 'O_Clump_Vx', 'O_Clump_Vy', 'O_Clump_Vz', 'O_Clump_density','O_t_end']\n",
    "FEATURES = ['X', 'Y', 'Z', 'Density', 'Vx', 'Vy', 'Vz', 't_hard']\n",
    "\n",
    "n_input = len(FEATURES)\n",
    "n_output = len(TARGET)\n",
    "\n",
    "#DEVICE = torch.device('cuda' if torch.cuda.is_available() else 'cpu')\n",
    "DEVICE = torch.device('cpu')\n",
    "\n",
    "print(f'Available device: {str(DEVICE):4s}')\n",
    "print(n_input, n_output)"
   ]
  },
  {
   "cell_type": "markdown",
   "metadata": {},
   "source": [
    "## Load data"
   ]
  },
  {
   "cell_type": "code",
   "execution_count": 58,
   "metadata": {},
   "outputs": [
    {
     "name": "stdout",
     "output_type": "stream",
     "text": [
      "2097152\n",
      "amount of nonclump data: 0.9898881912231445\n"
     ]
    },
    {
     "data": {
      "text/html": [
       "<div>\n",
       "<style scoped>\n",
       "    .dataframe tbody tr th:only-of-type {\n",
       "        vertical-align: middle;\n",
       "    }\n",
       "\n",
       "    .dataframe tbody tr th {\n",
       "        vertical-align: top;\n",
       "    }\n",
       "\n",
       "    .dataframe thead th {\n",
       "        text-align: right;\n",
       "    }\n",
       "</style>\n",
       "<table border=\"1\" class=\"dataframe\">\n",
       "  <thead>\n",
       "    <tr style=\"text-align: right;\">\n",
       "      <th></th>\n",
       "      <th>Unnamed: 0</th>\n",
       "      <th>Clump_id</th>\n",
       "      <th>Particle_id</th>\n",
       "      <th>X</th>\n",
       "      <th>Y</th>\n",
       "      <th>Z</th>\n",
       "      <th>Density</th>\n",
       "      <th>Vx</th>\n",
       "      <th>Vy</th>\n",
       "      <th>Vz</th>\n",
       "      <th>t_hard</th>\n",
       "      <th>O_Clump_X</th>\n",
       "      <th>O_Clump_Y</th>\n",
       "      <th>O_Clump_Z</th>\n",
       "      <th>O_Clump_Vx</th>\n",
       "      <th>O_Clump_Vy</th>\n",
       "      <th>O_Clump_Vz</th>\n",
       "      <th>O_Clump_density</th>\n",
       "      <th>O_t_end</th>\n",
       "    </tr>\n",
       "  </thead>\n",
       "  <tbody>\n",
       "    <tr>\n",
       "      <th>0</th>\n",
       "      <td>0</td>\n",
       "      <td>2</td>\n",
       "      <td>86076.0</td>\n",
       "      <td>0.339811</td>\n",
       "      <td>0.134624</td>\n",
       "      <td>0.137327</td>\n",
       "      <td>765.475687</td>\n",
       "      <td>-5.696933</td>\n",
       "      <td>5.085002</td>\n",
       "      <td>-2.849526</td>\n",
       "      <td>0.620028</td>\n",
       "      <td>0.328734</td>\n",
       "      <td>0.135963</td>\n",
       "      <td>0.128912</td>\n",
       "      <td>-6.392839</td>\n",
       "      <td>-6.392839</td>\n",
       "      <td>-2.518608</td>\n",
       "      <td>2706.596838</td>\n",
       "      <td>0.66003</td>\n",
       "    </tr>\n",
       "    <tr>\n",
       "      <th>1</th>\n",
       "      <td>1</td>\n",
       "      <td>2</td>\n",
       "      <td>86077.0</td>\n",
       "      <td>0.339542</td>\n",
       "      <td>0.134248</td>\n",
       "      <td>0.136532</td>\n",
       "      <td>936.301305</td>\n",
       "      <td>-6.040428</td>\n",
       "      <td>4.622971</td>\n",
       "      <td>-2.583300</td>\n",
       "      <td>0.620028</td>\n",
       "      <td>0.328734</td>\n",
       "      <td>0.135963</td>\n",
       "      <td>0.128912</td>\n",
       "      <td>-6.392839</td>\n",
       "      <td>-6.392839</td>\n",
       "      <td>-2.518608</td>\n",
       "      <td>2706.596838</td>\n",
       "      <td>0.66003</td>\n",
       "    </tr>\n",
       "    <tr>\n",
       "      <th>2</th>\n",
       "      <td>2</td>\n",
       "      <td>2</td>\n",
       "      <td>90172.0</td>\n",
       "      <td>0.338404</td>\n",
       "      <td>0.126431</td>\n",
       "      <td>0.135963</td>\n",
       "      <td>462.601489</td>\n",
       "      <td>-5.731839</td>\n",
       "      <td>4.998208</td>\n",
       "      <td>-2.695267</td>\n",
       "      <td>0.620028</td>\n",
       "      <td>0.328734</td>\n",
       "      <td>0.135963</td>\n",
       "      <td>0.128912</td>\n",
       "      <td>-6.392839</td>\n",
       "      <td>-6.392839</td>\n",
       "      <td>-2.518608</td>\n",
       "      <td>2706.596838</td>\n",
       "      <td>0.66003</td>\n",
       "    </tr>\n",
       "    <tr>\n",
       "      <th>3</th>\n",
       "      <td>3</td>\n",
       "      <td>2</td>\n",
       "      <td>90173.0</td>\n",
       "      <td>0.340331</td>\n",
       "      <td>0.124604</td>\n",
       "      <td>0.134357</td>\n",
       "      <td>693.797771</td>\n",
       "      <td>-4.973129</td>\n",
       "      <td>5.235317</td>\n",
       "      <td>-2.662311</td>\n",
       "      <td>0.620028</td>\n",
       "      <td>0.328734</td>\n",
       "      <td>0.135963</td>\n",
       "      <td>0.128912</td>\n",
       "      <td>-6.392839</td>\n",
       "      <td>-6.392839</td>\n",
       "      <td>-2.518608</td>\n",
       "      <td>2706.596838</td>\n",
       "      <td>0.66003</td>\n",
       "    </tr>\n",
       "    <tr>\n",
       "      <th>4</th>\n",
       "      <td>4</td>\n",
       "      <td>2</td>\n",
       "      <td>90174.0</td>\n",
       "      <td>0.340503</td>\n",
       "      <td>0.126074</td>\n",
       "      <td>0.134297</td>\n",
       "      <td>1088.844742</td>\n",
       "      <td>-5.258341</td>\n",
       "      <td>4.987108</td>\n",
       "      <td>-2.725896</td>\n",
       "      <td>0.620028</td>\n",
       "      <td>0.328734</td>\n",
       "      <td>0.135963</td>\n",
       "      <td>0.128912</td>\n",
       "      <td>-6.392839</td>\n",
       "      <td>-6.392839</td>\n",
       "      <td>-2.518608</td>\n",
       "      <td>2706.596838</td>\n",
       "      <td>0.66003</td>\n",
       "    </tr>\n",
       "  </tbody>\n",
       "</table>\n",
       "</div>"
      ],
      "text/plain": [
       "   Unnamed: 0  Clump_id  Particle_id         X         Y         Z  \\\n",
       "0           0         2      86076.0  0.339811  0.134624  0.137327   \n",
       "1           1         2      86077.0  0.339542  0.134248  0.136532   \n",
       "2           2         2      90172.0  0.338404  0.126431  0.135963   \n",
       "3           3         2      90173.0  0.340331  0.124604  0.134357   \n",
       "4           4         2      90174.0  0.340503  0.126074  0.134297   \n",
       "\n",
       "       Density        Vx        Vy        Vz    t_hard  O_Clump_X  O_Clump_Y  \\\n",
       "0   765.475687 -5.696933  5.085002 -2.849526  0.620028   0.328734   0.135963   \n",
       "1   936.301305 -6.040428  4.622971 -2.583300  0.620028   0.328734   0.135963   \n",
       "2   462.601489 -5.731839  4.998208 -2.695267  0.620028   0.328734   0.135963   \n",
       "3   693.797771 -4.973129  5.235317 -2.662311  0.620028   0.328734   0.135963   \n",
       "4  1088.844742 -5.258341  4.987108 -2.725896  0.620028   0.328734   0.135963   \n",
       "\n",
       "   O_Clump_Z  O_Clump_Vx  O_Clump_Vy  O_Clump_Vz  O_Clump_density  O_t_end  \n",
       "0   0.128912   -6.392839   -6.392839   -2.518608      2706.596838  0.66003  \n",
       "1   0.128912   -6.392839   -6.392839   -2.518608      2706.596838  0.66003  \n",
       "2   0.128912   -6.392839   -6.392839   -2.518608      2706.596838  0.66003  \n",
       "3   0.128912   -6.392839   -6.392839   -2.518608      2706.596838  0.66003  \n",
       "4   0.128912   -6.392839   -6.392839   -2.518608      2706.596838  0.66003  "
      ]
     },
     "execution_count": 58,
     "metadata": {},
     "output_type": "execute_result"
    }
   ],
   "source": [
    "df = pd.read_csv(DATAFILE)\n",
    "d_nonclump = df[df.Clump_id <0]\n",
    "d_clump = df[df.Clump_id >0]\n",
    "print(len(df))\n",
    "print(\"amount of nonclump data:\",float(d_nonclump.count()['Clump_id']/df.count()['Clump_id']))\n",
    "df.head()"
   ]
  },
  {
   "cell_type": "code",
   "execution_count": 64,
   "metadata": {},
   "outputs": [],
   "source": [
    "NTRAIN_nonclump = int(NTRAIN_percentage*d_nonclump.count()['Clump_id'])\n",
    "NTRAIN_clump = int(NTRAIN_percentage*d_clump.count()['Clump_id'])\n",
    "\n",
    "NTEST_nonclump = int(NTEST_percentage*d_nonclump.count()['Clump_id'])\n",
    "NTEST_clump = int(NTEST_percentage*d_clump.count()['Clump_id'])\n",
    "\n",
    "NVALID_nonclump = int(d_nonclump.count()['Clump_id']) - NTRAIN_nonclump - NTEST_nonclump\n",
    "NVALID_clump = int(d_clump.count()['Clump_id']) - NTRAIN_clump - NTEST_clump\n"
   ]
  },
  {
   "cell_type": "code",
   "execution_count": 65,
   "metadata": {},
   "outputs": [
    {
     "data": {
      "image/png": "[encoded data removed]",
      "text/plain": [
       "<Figure size 450x400 with 1 Axes>"
      ]
     },
     "metadata": {},
     "output_type": "display_data"
    }
   ],
   "source": [
    "def plot_data():\n",
    "    \n",
    "    fig = plt.figure(figsize=(4.5, 4))\n",
    "    \n",
    "    ax  = fig.add_subplot(111)\n",
    "    \n",
    "    tickmarks = [-1.0, -0.5, 0.0, 0.5, 1.0]\n",
    "    \n",
    "    ax.set_xlim(0, 1)\n",
    "    ax.set_xlabel('X', fontsize=18)\n",
    "    ax.set_xticks(tickmarks)\n",
    "    \n",
    "    ax.set_ylim(0, 1)\n",
    "    ax.set_ylabel('Y', fontsize=18)\n",
    "    ax.set_yticks(tickmarks)\n",
    "    \n",
    "    d1 = df[df.Clump_id ==2]\n",
    "    xp, yp = d1.X[:1000], d1.Y[:1000]\n",
    "    ax.scatter(xp, yp, s=4.0, color='red')\n",
    "    \n",
    "    d2 = df[df.Clump_id ==31]\n",
    "    xp, yp = d2.X[:1000], d2.Y[:1000]\n",
    "    ax.scatter(xp, yp, s=4.0, color='royalblue');\n",
    "    \n",
    "    fig.tight_layout()\n",
    "    \n",
    "    plt.show()\n",
    "\n",
    "plot_data()"
   ]
  },
  {
   "cell_type": "markdown",
   "metadata": {},
   "source": [
    "## Split data"
   ]
  },
  {
   "cell_type": "code",
   "execution_count": 67,
   "metadata": {},
   "outputs": [
    {
     "ename": "TypeError",
     "evalue": "first argument must be an iterable of pandas objects, you passed an object of type \"DataFrame\"",
     "output_type": "error",
     "traceback": [
      "\u001b[0;31m---------------------------------------------------------------------------\u001b[0m",
      "\u001b[0;31mTypeError\u001b[0m                                 Traceback (most recent call last)",
      "Cell \u001b[0;32mIn[67], line 2\u001b[0m\n\u001b[1;32m      1\u001b[0m train_data  \u001b[38;5;241m=\u001b[39m d_nonclump[:NTRAIN_nonclump]\n\u001b[0;32m----> 2\u001b[0m train_data \u001b[38;5;241m=\u001b[39m \u001b[43mpd\u001b[49m\u001b[38;5;241;43m.\u001b[39;49m\u001b[43mconcat\u001b[49m\u001b[43m(\u001b[49m\u001b[43md_clump\u001b[49m\u001b[43m[\u001b[49m\u001b[43m:\u001b[49m\u001b[43mNTRAIN_clump\u001b[49m\u001b[43m]\u001b[49m\u001b[43m)\u001b[49m\n\u001b[1;32m      3\u001b[0m \u001b[38;5;28mprint\u001b[39m(\u001b[38;5;28mlen\u001b[39m(train_data))\n\u001b[1;32m      5\u001b[0m valid_data  \u001b[38;5;241m=\u001b[39m df[NTRAIN:NTRAIN\u001b[38;5;241m+\u001b[39mNVALID]\n",
      "File \u001b[0;32m~/nikhil_20241011/lib/python3.10/site-packages/pandas/core/reshape/concat.py:382\u001b[0m, in \u001b[0;36mconcat\u001b[0;34m(objs, axis, join, ignore_index, keys, levels, names, verify_integrity, sort, copy)\u001b[0m\n\u001b[1;32m    379\u001b[0m \u001b[38;5;28;01melif\u001b[39;00m copy \u001b[38;5;129;01mand\u001b[39;00m using_copy_on_write():\n\u001b[1;32m    380\u001b[0m     copy \u001b[38;5;241m=\u001b[39m \u001b[38;5;28;01mFalse\u001b[39;00m\n\u001b[0;32m--> 382\u001b[0m op \u001b[38;5;241m=\u001b[39m \u001b[43m_Concatenator\u001b[49m\u001b[43m(\u001b[49m\n\u001b[1;32m    383\u001b[0m \u001b[43m    \u001b[49m\u001b[43mobjs\u001b[49m\u001b[43m,\u001b[49m\n\u001b[1;32m    384\u001b[0m \u001b[43m    \u001b[49m\u001b[43maxis\u001b[49m\u001b[38;5;241;43m=\u001b[39;49m\u001b[43maxis\u001b[49m\u001b[43m,\u001b[49m\n\u001b[1;32m    385\u001b[0m \u001b[43m    \u001b[49m\u001b[43mignore_index\u001b[49m\u001b[38;5;241;43m=\u001b[39;49m\u001b[43mignore_index\u001b[49m\u001b[43m,\u001b[49m\n\u001b[1;32m    386\u001b[0m \u001b[43m    \u001b[49m\u001b[43mjoin\u001b[49m\u001b[38;5;241;43m=\u001b[39;49m\u001b[43mjoin\u001b[49m\u001b[43m,\u001b[49m\n\u001b[1;32m    387\u001b[0m \u001b[43m    \u001b[49m\u001b[43mkeys\u001b[49m\u001b[38;5;241;43m=\u001b[39;49m\u001b[43mkeys\u001b[49m\u001b[43m,\u001b[49m\n\u001b[1;32m    388\u001b[0m \u001b[43m    \u001b[49m\u001b[43mlevels\u001b[49m\u001b[38;5;241;43m=\u001b[39;49m\u001b[43mlevels\u001b[49m\u001b[43m,\u001b[49m\n\u001b[1;32m    389\u001b[0m \u001b[43m    \u001b[49m\u001b[43mnames\u001b[49m\u001b[38;5;241;43m=\u001b[39;49m\u001b[43mnames\u001b[49m\u001b[43m,\u001b[49m\n\u001b[1;32m    390\u001b[0m \u001b[43m    \u001b[49m\u001b[43mverify_integrity\u001b[49m\u001b[38;5;241;43m=\u001b[39;49m\u001b[43mverify_integrity\u001b[49m\u001b[43m,\u001b[49m\n\u001b[1;32m    391\u001b[0m \u001b[43m    \u001b[49m\u001b[43mcopy\u001b[49m\u001b[38;5;241;43m=\u001b[39;49m\u001b[43mcopy\u001b[49m\u001b[43m,\u001b[49m\n\u001b[1;32m    392\u001b[0m \u001b[43m    \u001b[49m\u001b[43msort\u001b[49m\u001b[38;5;241;43m=\u001b[39;49m\u001b[43msort\u001b[49m\u001b[43m,\u001b[49m\n\u001b[1;32m    393\u001b[0m \u001b[43m\u001b[49m\u001b[43m)\u001b[49m\n\u001b[1;32m    395\u001b[0m \u001b[38;5;28;01mreturn\u001b[39;00m op\u001b[38;5;241m.\u001b[39mget_result()\n",
      "File \u001b[0;32m~/nikhil_20241011/lib/python3.10/site-packages/pandas/core/reshape/concat.py:419\u001b[0m, in \u001b[0;36m_Concatenator.__init__\u001b[0;34m(self, objs, axis, join, keys, levels, names, ignore_index, verify_integrity, copy, sort)\u001b[0m\n\u001b[1;32m    405\u001b[0m \u001b[38;5;28;01mdef\u001b[39;00m \u001b[38;5;21m__init__\u001b[39m(\n\u001b[1;32m    406\u001b[0m     \u001b[38;5;28mself\u001b[39m,\n\u001b[1;32m    407\u001b[0m     objs: Iterable[Series \u001b[38;5;241m|\u001b[39m DataFrame] \u001b[38;5;241m|\u001b[39m Mapping[HashableT, Series \u001b[38;5;241m|\u001b[39m DataFrame],\n\u001b[0;32m   (...)\u001b[0m\n\u001b[1;32m    416\u001b[0m     sort: \u001b[38;5;28mbool\u001b[39m \u001b[38;5;241m=\u001b[39m \u001b[38;5;28;01mFalse\u001b[39;00m,\n\u001b[1;32m    417\u001b[0m ) \u001b[38;5;241m-\u001b[39m\u001b[38;5;241m>\u001b[39m \u001b[38;5;28;01mNone\u001b[39;00m:\n\u001b[1;32m    418\u001b[0m     \u001b[38;5;28;01mif\u001b[39;00m \u001b[38;5;28misinstance\u001b[39m(objs, (ABCSeries, ABCDataFrame, \u001b[38;5;28mstr\u001b[39m)):\n\u001b[0;32m--> 419\u001b[0m         \u001b[38;5;28;01mraise\u001b[39;00m \u001b[38;5;167;01mTypeError\u001b[39;00m(\n\u001b[1;32m    420\u001b[0m             \u001b[38;5;124m\"\u001b[39m\u001b[38;5;124mfirst argument must be an iterable of pandas \u001b[39m\u001b[38;5;124m\"\u001b[39m\n\u001b[1;32m    421\u001b[0m             \u001b[38;5;124mf\u001b[39m\u001b[38;5;124m'\u001b[39m\u001b[38;5;124mobjects, you passed an object of type \u001b[39m\u001b[38;5;124m\"\u001b[39m\u001b[38;5;132;01m{\u001b[39;00m\u001b[38;5;28mtype\u001b[39m(objs)\u001b[38;5;241m.\u001b[39m\u001b[38;5;18m__name__\u001b[39m\u001b[38;5;132;01m}\u001b[39;00m\u001b[38;5;124m\"\u001b[39m\u001b[38;5;124m'\u001b[39m\n\u001b[1;32m    422\u001b[0m         )\n\u001b[1;32m    424\u001b[0m     \u001b[38;5;28;01mif\u001b[39;00m join \u001b[38;5;241m==\u001b[39m \u001b[38;5;124m\"\u001b[39m\u001b[38;5;124mouter\u001b[39m\u001b[38;5;124m\"\u001b[39m:\n\u001b[1;32m    425\u001b[0m         \u001b[38;5;28mself\u001b[39m\u001b[38;5;241m.\u001b[39mintersect \u001b[38;5;241m=\u001b[39m \u001b[38;5;28;01mFalse\u001b[39;00m\n",
      "\u001b[0;31mTypeError\u001b[0m: first argument must be an iterable of pandas objects, you passed an object of type \"DataFrame\""
     ]
    }
   ],
   "source": [
    "train_data  = d_nonclump[:NTRAIN_nonclump]\n",
    "train_data = pd.concat(d_clump[:NTRAIN_clump])\n",
    "print(len(train_data))\n",
    "\n",
    "valid_data  = df[NTRAIN:NTRAIN+NVALID]\n",
    "print(len(valid_data))\n",
    "\n",
    "test_data = df[NTRAIN+NVALID:]\n",
    "print(len(test_data))"
   ]
  },
  {
   "cell_type": "markdown",
   "metadata": {},
   "source": [
    "## Convert to tensors"
   ]
  },
  {
   "cell_type": "code",
   "execution_count": 19,
   "metadata": {},
   "outputs": [
    {
     "data": {
      "text/plain": [
       "(torch.Size([1600000, 8]), torch.Size([1600000, 8]))"
      ]
     },
     "execution_count": 19,
     "metadata": {},
     "output_type": "execute_result"
    }
   ],
   "source": [
    "def dataframe2tensor(df, target, source):\n",
    "    # change from pandas dataframe to PyTorch tensors\n",
    "    # and load data to device.\n",
    "    x = torch.tensor(df[source].to_numpy()).float().to(DEVICE)\n",
    "    y = torch.tensor(df[target].to_numpy()).float().to(DEVICE)\n",
    "    return x, y\n",
    "\n",
    "train_x, train_y = dataframe2tensor(train_data, TARGET, FEATURES)\n",
    "valid_x, valid_y = dataframe2tensor(valid_data, TARGET, FEATURES)\n",
    "test_x,  test_y  = dataframe2tensor(test_data,  TARGET, FEATURES)\n",
    "\n",
    "train_x.shape, train_y.shape"
   ]
  },
  {
   "cell_type": "markdown",
   "metadata": {},
   "source": [
    "## Some ML Utilities"
   ]
  },
  {
   "cell_type": "code",
   "execution_count": 23,
   "metadata": {},
   "outputs": [],
   "source": [
    "def get_batch(x, y, batch_size, ii):\n",
    "    # cycle through batches of training data sequentially\n",
    "    K = int(len(x) / batch_size + 0.5) # number of batches / epoch\n",
    "    jj = ii % K\n",
    "    start = jj * batch_size\n",
    "    end = start + batch_size - 1\n",
    "    if end > len(x)-1:\n",
    "        end = len(x)-1\n",
    "    return x[start: end+1], y[start: end+1], jj\n",
    "\n",
    "def get_random_batch(x, y, batch_size):\n",
    "    # selects at random \"batch_size\" integers from \n",
    "    # the range [0, batch_size-1] corresponding to the\n",
    "    # row indices of the training data\n",
    "    rows = torch.randint(0, len(x)-1, size=(batch_size,))\n",
    "    return x[rows], y[rows]\n",
    "        \n",
    "def validate(model, avloss, x, y):\n",
    "    # set to evaluation mode so that any training \n",
    "    # specific operations are disabled.\n",
    "    model.eval()\n",
    "    with torch.no_grad(): # no need to compute gradients wrt. x and y\n",
    "        # reshape to ensure that f and y are of the same shape!\n",
    "        f = model(x).reshape(y.shape)\n",
    "    return avloss(f, y)\n",
    "\n",
    "def number_of_parameters(model):\n",
    "    return sum(p.numel() for p in model.parameters() if p.requires_grad)\n",
    "\n",
    "def plot_loss_curve(losses):\n",
    "    \n",
    "    xx, yy_t, yy_v = losses\n",
    "    \n",
    "    # create an empty figure\n",
    "    fig = plt.figure(figsize=(5, 3.8))\n",
    "    fig.tight_layout()\n",
    "    \n",
    "    # add a subplot to it\n",
    "    nrows, ncols, index = 1,1,1\n",
    "    ax  = fig.add_subplot(nrows,ncols,index)\n",
    "    \n",
    "    ax.plot(xx, yy_t, color='red',  lw=1, label='training loss')\n",
    "    ax.plot(xx, yy_v, color='blue', lw=1, label='validation loss')\n",
    "    ax.legend()\n",
    "    \n",
    "    ax.set_xlabel('iterations')\n",
    "    ax.set_ylabel('average loss')\n",
    "    ax.set_xscale('log')\n",
    "    ax.set_yscale('log')\n",
    "    ax.grid(True, which=\"both\", linestyle='-')\n",
    "\n",
    "    plt.show()"
   ]
  },
  {
   "cell_type": "markdown",
   "metadata": {},
   "source": [
    "## Define the fully-connected neural network\n",
    "\n",
    "### $\\texttt{ReLU}(x)$\n",
    "\n",
    "$$\\text{Relu}(x) = max(0, z)$$\n",
    "\n",
    "\n",
    "### LayerNorm\n",
    "\n",
    "$$y = \\frac{(x - E[x])}{\\sqrt{V(x)}},$$\n",
    "\n",
    "where the averaging is over the layer."
   ]
  },
  {
   "cell_type": "code",
   "execution_count": 265,
   "metadata": {},
   "outputs": [
    {
     "data": {
      "text/plain": [
       "8"
      ]
     },
     "execution_count": 265,
     "metadata": {},
     "output_type": "execute_result"
    }
   ],
   "source": [
    "n_output"
   ]
  },
  {
   "cell_type": "code",
   "execution_count": 21,
   "metadata": {},
   "outputs": [],
   "source": [
    "#%%writefile nnmodel.py\n",
    "#import torch.nn as nn\n",
    "H = 4\n",
    "\n",
    "model = nn.Sequential(nn.Linear(n_input, H), nn.ReLU(), nn.BatchNorm1d(H), nn.Dropout(0.2),\n",
    "                      nn.Linear(H, int(H/2)), nn.ReLU(),\n",
    "                      nn.Linear(int(H/2), n_output))\n"
   ]
  },
  {
   "cell_type": "markdown",
   "metadata": {},
   "source": [
    "## Train model"
   ]
  },
  {
   "cell_type": "code",
   "execution_count": 22,
   "metadata": {},
   "outputs": [
    {
     "name": "stdout",
     "output_type": "stream",
     "text": [
      "78\n"
     ]
    },
    {
     "data": {
      "text/plain": [
       "Sequential(\n",
       "  (0): Linear(in_features=8, out_features=4, bias=True)\n",
       "  (1): ReLU()\n",
       "  (2): BatchNorm1d(4, eps=1e-05, momentum=0.1, affine=True, track_running_stats=True)\n",
       "  (3): Dropout(p=0.2, inplace=False)\n",
       "  (4): Linear(in_features=4, out_features=2, bias=True)\n",
       "  (5): ReLU()\n",
       "  (6): Linear(in_features=2, out_features=8, bias=True)\n",
       ")"
      ]
     },
     "execution_count": 22,
     "metadata": {},
     "output_type": "execute_result"
    }
   ],
   "source": [
    "#from nnmodel import model\n",
    "\n",
    "learning_rate = 1.e-4\n",
    "optimizer     = torch.optim.Adam(model.parameters(), lr=learning_rate) \n",
    "\n",
    "n_iterations  = 25000\n",
    "n_batch  = 32\n",
    "n_step   = 10\n",
    "n_epochs = 1\n",
    "n_valid  = len(valid_x)\n",
    "train_x2 = train_x[:n_valid]\n",
    "train_y2 = train_y[:n_valid]\n",
    "\n",
    "emprisk  = nn.HuberLoss(delta=0.0005)\n",
    "print(number_of_parameters(model))\n",
    "model"
   ]
  },
  {
   "cell_type": "code",
   "execution_count": 24,
   "metadata": {},
   "outputs": [
    {
     "name": "stdout",
     "output_type": "stream",
     "text": [
      "|        1|    24990|7.643e-02|8.115e-02|\n"
     ]
    },
    {
     "data": {
      "image/png": "[encoded data removed]",
      "text/plain": [
       "<Figure size 500x380 with 1 Axes>"
      ]
     },
     "metadata": {},
     "output_type": "display_data"
    }
   ],
   "source": [
    "USE_SEQUENTIAL_BATCHES = True\n",
    "\n",
    "epoch = 0\n",
    "\n",
    "X = []\n",
    "T = []\n",
    "V = []\n",
    "\n",
    "min_avloss = float('inf')\n",
    "\n",
    "while epoch<n_epochs:\n",
    "    for ii in range(n_iterations):\n",
    "\n",
    "        # clear previous gradients\n",
    "        \n",
    "        optimizer.zero_grad()\n",
    "        \n",
    "        # set mode to training so that training specific \n",
    "        # operations such as dropout are enabled.\n",
    "        \n",
    "        model.train()\n",
    "\n",
    "        # get a batch of data \n",
    "\n",
    "        if USE_SEQUENTIAL_BATCHES:\n",
    "            x, y, jj = get_batch(train_x, train_y, n_batch, ii)\n",
    "            if jj == 0:\n",
    "                epoch += 1\n",
    "        else:\n",
    "            x, y = get_random_batch(train_x, train_y, n_batch)  \n",
    "        \n",
    "        f = model(x).reshape(y.shape)\n",
    "\n",
    "        R = emprisk(f, y)\n",
    "        \n",
    "        R.backward()  # compute gradients of with respect to NN parameters\n",
    "\n",
    "        optimizer.step()    # advance one step in the space of NN parameters\n",
    "\n",
    "        if ii % n_step == 0:\n",
    "            \n",
    "            t_loss = validate(model, emprisk, train_x2, train_y2).detach()\n",
    "            v_loss = validate(model, emprisk, valid_x,  valid_y).detach()\n",
    "\n",
    "            print(f'\\r|{epoch:9d}|{ii:9d}|{t_loss:9.3e}|{v_loss:9.3e}|', end='')\n",
    "\n",
    "            X.append(ii)\n",
    "            T.append(float(t_loss))\n",
    "            V.append(float(v_loss))\n",
    "\n",
    "            if v_loss < 0.995 * min_avloss:\n",
    "                min_avloss = v_loss\n",
    "                torch.save(model.state_dict(), MODELFILE)\n",
    "            \n",
    "    print()\n",
    "\n",
    "plot_loss_curve([X, T, V])"
   ]
  },
  {
   "cell_type": "code",
   "execution_count": 25,
   "metadata": {},
   "outputs": [],
   "source": [
    "del model"
   ]
  },
  {
   "cell_type": "code",
   "execution_count": null,
   "metadata": {},
   "outputs": [],
   "source": []
  }
 ],
 "metadata": {
  "kernelspec": {
   "display_name": "Python 3 (ipykernel)",
   "language": "python",
   "name": "python3"
  },
  "language_info": {
   "codemirror_mode": {
    "name": "ipython",
    "version": 3
   },
   "file_extension": ".py",
   "mimetype": "text/x-python",
   "name": "python",
   "nbconvert_exporter": "python",
   "pygments_lexer": "ipython3",
   "version": "3.10.12"
  }
 },
 "nbformat": 4,
 "nbformat_minor": 4
}
