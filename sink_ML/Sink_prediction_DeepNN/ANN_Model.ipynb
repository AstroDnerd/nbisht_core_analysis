{
 "cells": [
  {
   "cell_type": "markdown",
   "metadata": {},
   "source": [
    "# DeepNN for Sink Particles\n",
    "> Created Oct. 2024 <br>\n",
    "> Nikhil Bisht<br>"
   ]
  },
  {
   "cell_type": "code",
   "execution_count": 2,
   "metadata": {},
   "outputs": [],
   "source": [
    "# standard system modules\n",
    "import os, sys\n",
    "\n",
    "# standard module for tabular data\n",
    "import pandas as pd\n",
    "\n",
    "# standard module for array manipulation\n",
    "import numpy as np\n",
    "\n",
    "# standard statistical module\n",
    "import scipy.stats as st\n",
    "\n",
    "# standard module for high-quality plots\n",
    "import matplotlib as mp\n",
    "import matplotlib.pyplot as plt\n",
    "mp.rcParams.update(mp.rcParamsDefault)\n",
    "%matplotlib inline\n",
    "\n",
    "# standard research-level machine learning toolkit from Meta (FKA: FaceBook)\n",
    "import torch\n",
    "import torch.nn as nn\n",
    "\n",
    "\n",
    "# set a seed to ensure reproducibility\n",
    "seed = 128\n",
    "rnd  = np.random.RandomState(seed)"
   ]
  },
  {
   "cell_type": "markdown",
   "metadata": {},
   "source": [
    "## Constants"
   ]
  },
  {
   "cell_type": "code",
   "execution_count": 5,
   "metadata": {},
   "outputs": [
    {
     "name": "stdout",
     "output_type": "stream",
     "text": [
      "Available device: cpu \n",
      "8 8\n"
     ]
    }
   ],
   "source": [
    "DATAFILE  = '/data/cb1/nbisht/anvil_scratch/projects/128/B2/datasets/final_88/nb101_ML_dataset.csv'\n",
    "MODELFILE = 'nnmodel.dict'\n",
    "\n",
    "NTRAIN = 1600000\n",
    "NVALID =  100000\n",
    "NTEST  =  300000 #roughly\n",
    "\n",
    "TARGET = ['O_Clump_X', 'O_Clump_Y',\t'O_Clump_Z', 'O_Clump_Vx', 'O_Clump_Vy', 'O_Clump_Vz', 'O_Clump_density','O_t_end']\n",
    "FEATURES = ['X', 'Y', 'Z', 'Density', 'Vx', 'Vy', 'Vz', 't_hard']\n",
    "\n",
    "n_input = len(FEATURES)\n",
    "n_output = len(TARGET)\n",
    "\n",
    "#DEVICE = torch.device('cuda' if torch.cuda.is_available() else 'cpu')\n",
    "DEVICE = torch.device('cpu')\n",
    "\n",
    "print(f'Available device: {str(DEVICE):4s}')\n",
    "print(n_input, n_output)"
   ]
  },
  {
   "cell_type": "markdown",
   "metadata": {},
   "source": [
    "## Load data"
   ]
  },
  {
   "cell_type": "code",
   "execution_count": 6,
   "metadata": {},
   "outputs": [
    {
     "name": "stdout",
     "output_type": "stream",
     "text": [
      "2097152\n"
     ]
    },
    {
     "data": {
      "text/html": [
       "<div>\n",
       "<style scoped>\n",
       "    .dataframe tbody tr th:only-of-type {\n",
       "        vertical-align: middle;\n",
       "    }\n",
       "\n",
       "    .dataframe tbody tr th {\n",
       "        vertical-align: top;\n",
       "    }\n",
       "\n",
       "    .dataframe thead th {\n",
       "        text-align: right;\n",
       "    }\n",
       "</style>\n",
       "<table border=\"1\" class=\"dataframe\">\n",
       "  <thead>\n",
       "    <tr style=\"text-align: right;\">\n",
       "      <th></th>\n",
       "      <th>Unnamed: 0</th>\n",
       "      <th>Clump_id</th>\n",
       "      <th>Particle_id</th>\n",
       "      <th>X</th>\n",
       "      <th>Y</th>\n",
       "      <th>Z</th>\n",
       "      <th>Density</th>\n",
       "      <th>Vx</th>\n",
       "      <th>Vy</th>\n",
       "      <th>Vz</th>\n",
       "      <th>t_hard</th>\n",
       "      <th>O_Clump_X</th>\n",
       "      <th>O_Clump_Y</th>\n",
       "      <th>O_Clump_Z</th>\n",
       "      <th>O_Clump_Vx</th>\n",
       "      <th>O_Clump_Vy</th>\n",
       "      <th>O_Clump_Vz</th>\n",
       "      <th>O_Clump_density</th>\n",
       "      <th>O_t_end</th>\n",
       "    </tr>\n",
       "  </thead>\n",
       "  <tbody>\n",
       "    <tr>\n",
       "      <th>0</th>\n",
       "      <td>521024</td>\n",
       "      <td>-1</td>\n",
       "      <td>820136.0</td>\n",
       "      <td>0.831301</td>\n",
       "      <td>0.083967</td>\n",
       "      <td>0.543035</td>\n",
       "      <td>0.130214</td>\n",
       "      <td>1.288411</td>\n",
       "      <td>-0.172561</td>\n",
       "      <td>-3.757433</td>\n",
       "      <td>0.403104</td>\n",
       "      <td>0.848675</td>\n",
       "      <td>0.084979</td>\n",
       "      <td>0.500263</td>\n",
       "      <td>3.361485</td>\n",
       "      <td>0.782921</td>\n",
       "      <td>-4.834196</td>\n",
       "      <td>0.102839</td>\n",
       "      <td>0.66003</td>\n",
       "    </tr>\n",
       "    <tr>\n",
       "      <th>1</th>\n",
       "      <td>207748</td>\n",
       "      <td>-1</td>\n",
       "      <td>282394.0</td>\n",
       "      <td>0.583104</td>\n",
       "      <td>0.967716</td>\n",
       "      <td>0.689215</td>\n",
       "      <td>0.981035</td>\n",
       "      <td>-3.306590</td>\n",
       "      <td>-5.409646</td>\n",
       "      <td>4.655127</td>\n",
       "      <td>0.403104</td>\n",
       "      <td>0.554212</td>\n",
       "      <td>0.896940</td>\n",
       "      <td>0.725584</td>\n",
       "      <td>-1.906034</td>\n",
       "      <td>-8.132756</td>\n",
       "      <td>1.442962</td>\n",
       "      <td>9.925290</td>\n",
       "      <td>0.66003</td>\n",
       "    </tr>\n",
       "    <tr>\n",
       "      <th>2</th>\n",
       "      <td>1936511</td>\n",
       "      <td>-1</td>\n",
       "      <td>879987.0</td>\n",
       "      <td>0.994669</td>\n",
       "      <td>0.469619</td>\n",
       "      <td>0.640182</td>\n",
       "      <td>2.326365</td>\n",
       "      <td>3.020340</td>\n",
       "      <td>2.136101</td>\n",
       "      <td>-0.477079</td>\n",
       "      <td>0.403104</td>\n",
       "      <td>0.026150</td>\n",
       "      <td>0.487994</td>\n",
       "      <td>0.630964</td>\n",
       "      <td>3.136618</td>\n",
       "      <td>1.206108</td>\n",
       "      <td>-0.939501</td>\n",
       "      <td>2.143641</td>\n",
       "      <td>0.66003</td>\n",
       "    </tr>\n",
       "    <tr>\n",
       "      <th>3</th>\n",
       "      <td>725476</td>\n",
       "      <td>-1</td>\n",
       "      <td>945326.0</td>\n",
       "      <td>0.089112</td>\n",
       "      <td>0.428726</td>\n",
       "      <td>0.756449</td>\n",
       "      <td>1.446005</td>\n",
       "      <td>9.710651</td>\n",
       "      <td>-0.711959</td>\n",
       "      <td>-1.795781</td>\n",
       "      <td>0.403104</td>\n",
       "      <td>0.159908</td>\n",
       "      <td>0.421254</td>\n",
       "      <td>0.740063</td>\n",
       "      <td>4.140229</td>\n",
       "      <td>0.880568</td>\n",
       "      <td>-1.270677</td>\n",
       "      <td>6.412669</td>\n",
       "      <td>0.66003</td>\n",
       "    </tr>\n",
       "    <tr>\n",
       "      <th>4</th>\n",
       "      <td>1165564</td>\n",
       "      <td>-1</td>\n",
       "      <td>1812977.0</td>\n",
       "      <td>0.340104</td>\n",
       "      <td>0.786708</td>\n",
       "      <td>0.404211</td>\n",
       "      <td>0.533340</td>\n",
       "      <td>-2.804477</td>\n",
       "      <td>-2.575938</td>\n",
       "      <td>-1.472766</td>\n",
       "      <td>0.403104</td>\n",
       "      <td>0.311318</td>\n",
       "      <td>0.777068</td>\n",
       "      <td>0.380581</td>\n",
       "      <td>-3.102733</td>\n",
       "      <td>-1.300254</td>\n",
       "      <td>-2.510533</td>\n",
       "      <td>0.484962</td>\n",
       "      <td>0.66003</td>\n",
       "    </tr>\n",
       "  </tbody>\n",
       "</table>\n",
       "</div>"
      ],
      "text/plain": [
       "   Unnamed: 0  Clump_id  Particle_id         X         Y         Z   Density  \\\n",
       "0      521024        -1     820136.0  0.831301  0.083967  0.543035  0.130214   \n",
       "1      207748        -1     282394.0  0.583104  0.967716  0.689215  0.981035   \n",
       "2     1936511        -1     879987.0  0.994669  0.469619  0.640182  2.326365   \n",
       "3      725476        -1     945326.0  0.089112  0.428726  0.756449  1.446005   \n",
       "4     1165564        -1    1812977.0  0.340104  0.786708  0.404211  0.533340   \n",
       "\n",
       "         Vx        Vy        Vz    t_hard  O_Clump_X  O_Clump_Y  O_Clump_Z  \\\n",
       "0  1.288411 -0.172561 -3.757433  0.403104   0.848675   0.084979   0.500263   \n",
       "1 -3.306590 -5.409646  4.655127  0.403104   0.554212   0.896940   0.725584   \n",
       "2  3.020340  2.136101 -0.477079  0.403104   0.026150   0.487994   0.630964   \n",
       "3  9.710651 -0.711959 -1.795781  0.403104   0.159908   0.421254   0.740063   \n",
       "4 -2.804477 -2.575938 -1.472766  0.403104   0.311318   0.777068   0.380581   \n",
       "\n",
       "   O_Clump_Vx  O_Clump_Vy  O_Clump_Vz  O_Clump_density  O_t_end  \n",
       "0    3.361485    0.782921   -4.834196         0.102839  0.66003  \n",
       "1   -1.906034   -8.132756    1.442962         9.925290  0.66003  \n",
       "2    3.136618    1.206108   -0.939501         2.143641  0.66003  \n",
       "3    4.140229    0.880568   -1.270677         6.412669  0.66003  \n",
       "4   -3.102733   -1.300254   -2.510533         0.484962  0.66003  "
      ]
     },
     "execution_count": 6,
     "metadata": {},
     "output_type": "execute_result"
    }
   ],
   "source": [
    "df = pd.read_csv(DATAFILE)\n",
    "print(len(df))\n",
    "df = df.sample(frac=1).reset_index(drop=True)\n",
    "df.head()"
   ]
  },
  {
   "cell_type": "code",
   "execution_count": 64,
   "metadata": {},
   "outputs": [],
   "source": []
  },
  {
   "cell_type": "code",
   "execution_count": 7,
   "metadata": {},
   "outputs": [
    {
     "data": {
      "image/png": "[encoded data removed]",
      "text/plain": [
       "<Figure size 450x400 with 1 Axes>"
      ]
     },
     "metadata": {},
     "output_type": "display_data"
    }
   ],
   "source": [
    "def plot_data():\n",
    "    \n",
    "    fig = plt.figure(figsize=(4.5, 4))\n",
    "    \n",
    "    ax  = fig.add_subplot(111)\n",
    "    \n",
    "    tickmarks = [-1.0, -0.5, 0.0, 0.5, 1.0]\n",
    "    \n",
    "    ax.set_xlim(0, 1)\n",
    "    ax.set_xlabel('X', fontsize=18)\n",
    "    ax.set_xticks(tickmarks)\n",
    "    \n",
    "    ax.set_ylim(0, 1)\n",
    "    ax.set_ylabel('Y', fontsize=18)\n",
    "    ax.set_yticks(tickmarks)\n",
    "    \n",
    "    d1 = df[df.Clump_id ==2]\n",
    "    xp, yp = d1.X[:1000], d1.Y[:1000]\n",
    "    ax.scatter(xp, yp, s=4.0, color='red')\n",
    "    \n",
    "    d2 = df[df.Clump_id ==31]\n",
    "    xp, yp = d2.X[:1000], d2.Y[:1000]\n",
    "    ax.scatter(xp, yp, s=4.0, color='royalblue');\n",
    "    \n",
    "    fig.tight_layout()\n",
    "    \n",
    "    plt.show()\n",
    "\n",
    "plot_data()"
   ]
  },
  {
   "cell_type": "markdown",
   "metadata": {},
   "source": [
    "## Split data"
   ]
  },
  {
   "cell_type": "code",
   "execution_count": 8,
   "metadata": {},
   "outputs": [
    {
     "name": "stdout",
     "output_type": "stream",
     "text": [
      "1600000\n",
      "100000\n",
      "397152\n"
     ]
    }
   ],
   "source": [
    "train_data  = df[:NTRAIN]\n",
    "print(len(train_data))\n",
    "\n",
    "valid_data  = df[NTRAIN:NTRAIN+NVALID]\n",
    "print(len(valid_data))\n",
    "\n",
    "test_data = df[NTRAIN+NVALID:]\n",
    "print(len(test_data))"
   ]
  },
  {
   "cell_type": "markdown",
   "metadata": {},
   "source": [
    "## Convert to tensors"
   ]
  },
  {
   "cell_type": "code",
   "execution_count": 9,
   "metadata": {},
   "outputs": [
    {
     "data": {
      "text/plain": [
       "(torch.Size([1600000, 8]), torch.Size([1600000, 8]))"
      ]
     },
     "execution_count": 9,
     "metadata": {},
     "output_type": "execute_result"
    }
   ],
   "source": [
    "def dataframe2tensor(df, target, source):\n",
    "    # change from pandas dataframe to PyTorch tensors\n",
    "    # and load data to device.\n",
    "    x = torch.tensor(df[source].to_numpy()).float().to(DEVICE)\n",
    "    y = torch.tensor(df[target].to_numpy()).float().to(DEVICE)\n",
    "    return x, y\n",
    "\n",
    "train_x, train_y = dataframe2tensor(train_data, TARGET, FEATURES)\n",
    "valid_x, valid_y = dataframe2tensor(valid_data, TARGET, FEATURES)\n",
    "test_x,  test_y  = dataframe2tensor(test_data,  TARGET, FEATURES)\n",
    "\n",
    "train_x.shape, train_y.shape"
   ]
  },
  {
   "cell_type": "markdown",
   "metadata": {},
   "source": [
    "## Some ML Utilities"
   ]
  },
  {
   "cell_type": "code",
   "execution_count": 10,
   "metadata": {},
   "outputs": [],
   "source": [
    "def get_batch(x, y, batch_size, ii):\n",
    "    # cycle through batches of training data sequentially\n",
    "    K = int(len(x) / batch_size + 0.5) # number of batches / epoch\n",
    "    jj = ii % K\n",
    "    start = jj * batch_size\n",
    "    end = start + batch_size - 1\n",
    "    if end > len(x)-1:\n",
    "        end = len(x)-1\n",
    "    return x[start: end+1], y[start: end+1], jj\n",
    "\n",
    "def get_random_batch(x, y, batch_size):\n",
    "    # selects at random \"batch_size\" integers from \n",
    "    # the range [0, batch_size-1] corresponding to the\n",
    "    # row indices of the training data\n",
    "    rows = torch.randint(0, len(x)-1, size=(batch_size,))\n",
    "    return x[rows], y[rows]\n",
    "        \n",
    "def validate(model, avloss, x, y):\n",
    "    # set to evaluation mode so that any training \n",
    "    # specific operations are disabled.\n",
    "    model.eval()\n",
    "    with torch.no_grad(): # no need to compute gradients wrt. x and y\n",
    "        # reshape to ensure that f and y are of the same shape!\n",
    "        f = model(x).reshape(y.shape)\n",
    "    return avloss(f, y)\n",
    "\n",
    "def number_of_parameters(model):\n",
    "    return sum(p.numel() for p in model.parameters() if p.requires_grad)\n",
    "\n",
    "def plot_loss_curve(losses):\n",
    "    \n",
    "    xx, yy_t, yy_v = losses\n",
    "    \n",
    "    # create an empty figure\n",
    "    fig = plt.figure(figsize=(5, 3.8))\n",
    "    fig.tight_layout()\n",
    "    \n",
    "    # add a subplot to it\n",
    "    nrows, ncols, index = 1,1,1\n",
    "    ax  = fig.add_subplot(nrows,ncols,index)\n",
    "    \n",
    "    ax.plot(xx, yy_t, color='red',  lw=1, label='training loss')\n",
    "    ax.plot(xx, yy_v, color='blue', lw=1, label='validation loss')\n",
    "    ax.legend()\n",
    "    \n",
    "    ax.set_xlabel('iterations')\n",
    "    ax.set_ylabel('average loss')\n",
    "    ax.set_xscale('log')\n",
    "    ax.set_yscale('log')\n",
    "    ax.grid(True, which=\"both\", linestyle='-')\n",
    "\n",
    "    plt.show()"
   ]
  },
  {
   "cell_type": "markdown",
   "metadata": {},
   "source": [
    "## Define the fully-connected neural network\n",
    "\n",
    "### $\\texttt{ReLU}(x)$\n",
    "\n",
    "$$\\text{Relu}(x) = max(0, z)$$\n",
    "\n",
    "\n",
    "### LayerNorm\n",
    "\n",
    "$$y = \\frac{(x - E[x])}{\\sqrt{V(x)}},$$\n",
    "\n",
    "where the averaging is over the layer."
   ]
  },
  {
   "cell_type": "code",
   "execution_count": 76,
   "metadata": {},
   "outputs": [
    {
     "data": {
      "text/plain": [
       "8"
      ]
     },
     "execution_count": 76,
     "metadata": {},
     "output_type": "execute_result"
    }
   ],
   "source": [
    "n_output"
   ]
  },
  {
   "cell_type": "code",
   "execution_count": 14,
   "metadata": {},
   "outputs": [
    {
     "name": "stdout",
     "output_type": "stream",
     "text": [
      "Overwriting nnmodel.py\n"
     ]
    }
   ],
   "source": [
    "%%writefile nnmodel.py\n",
    "import torch.nn as nn\n",
    "H = 4\n",
    "n_input = 8\n",
    "n_output = 8\n",
    "model = nn.Sequential(nn.Linear(n_input, H), nn.ReLU(), nn.BatchNorm1d(H), nn.Dropout(0.2),\n",
    "                      nn.Linear(H, int(H/2)), nn.ReLU(),\n",
    "                      nn.Linear(int(H/2), n_output))\n"
   ]
  },
  {
   "cell_type": "markdown",
   "metadata": {},
   "source": [
    "## Train model"
   ]
  },
  {
   "cell_type": "code",
   "execution_count": 15,
   "metadata": {},
   "outputs": [
    {
     "name": "stdout",
     "output_type": "stream",
     "text": [
      "78\n"
     ]
    },
    {
     "data": {
      "text/plain": [
       "Sequential(\n",
       "  (0): Linear(in_features=8, out_features=4, bias=True)\n",
       "  (1): ReLU()\n",
       "  (2): BatchNorm1d(4, eps=1e-05, momentum=0.1, affine=True, track_running_stats=True)\n",
       "  (3): Dropout(p=0.2, inplace=False)\n",
       "  (4): Linear(in_features=4, out_features=2, bias=True)\n",
       "  (5): ReLU()\n",
       "  (6): Linear(in_features=2, out_features=8, bias=True)\n",
       ")"
      ]
     },
     "execution_count": 15,
     "metadata": {},
     "output_type": "execute_result"
    }
   ],
   "source": [
    "from nnmodel import model\n",
    "\n",
    "learning_rate = 1.e-4\n",
    "optimizer     = torch.optim.Adam(model.parameters(), lr=learning_rate) \n",
    "\n",
    "n_iterations  = 25000\n",
    "n_batch  = 32\n",
    "n_step   = 10\n",
    "n_epochs = 1\n",
    "n_valid  = len(valid_x)\n",
    "train_x2 = train_x[:n_valid]\n",
    "train_y2 = train_y[:n_valid]\n",
    "\n",
    "emprisk  = nn.HuberLoss(delta=0.0005)\n",
    "print(number_of_parameters(model))\n",
    "model"
   ]
  },
  {
   "cell_type": "code",
   "execution_count": 16,
   "metadata": {},
   "outputs": [
    {
     "name": "stdout",
     "output_type": "stream",
     "text": [
      "|        1|    24990|7.548e-02|7.112e-02|\n"
     ]
    },
    {
     "data": {
      "image/png": "[encoded data removed]",
      "text/plain": [
       "<Figure size 500x380 with 1 Axes>"
      ]
     },
     "metadata": {},
     "output_type": "display_data"
    }
   ],
   "source": [
    "USE_SEQUENTIAL_BATCHES = True\n",
    "\n",
    "epoch = 0\n",
    "\n",
    "X = []\n",
    "T = []\n",
    "V = []\n",
    "\n",
    "min_avloss = float('inf')\n",
    "\n",
    "while epoch<n_epochs:\n",
    "    for ii in range(n_iterations):\n",
    "\n",
    "        # clear previous gradients\n",
    "        \n",
    "        optimizer.zero_grad()\n",
    "        \n",
    "        # set mode to training so that training specific \n",
    "        # operations such as dropout are enabled.\n",
    "        \n",
    "        model.train()\n",
    "\n",
    "        # get a batch of data \n",
    "\n",
    "        if USE_SEQUENTIAL_BATCHES:\n",
    "            x, y, jj = get_batch(train_x, train_y, n_batch, ii)\n",
    "            if jj == 0:\n",
    "                epoch += 1\n",
    "        else:\n",
    "            x, y = get_random_batch(train_x, train_y, n_batch)  \n",
    "        \n",
    "        f = model(x).reshape(y.shape)\n",
    "\n",
    "        R = emprisk(f, y)\n",
    "        \n",
    "        R.backward()  # compute gradients of with respect to NN parameters\n",
    "\n",
    "        optimizer.step()    # advance one step in the space of NN parameters\n",
    "\n",
    "        if ii % n_step == 0:\n",
    "            \n",
    "            t_loss = validate(model, emprisk, train_x2, train_y2).detach()\n",
    "            v_loss = validate(model, emprisk, valid_x,  valid_y).detach()\n",
    "\n",
    "            print(f'\\r|{epoch:9d}|{ii:9d}|{t_loss:9.3e}|{v_loss:9.3e}|', end='')\n",
    "\n",
    "            X.append(ii)\n",
    "            T.append(float(t_loss))\n",
    "            V.append(float(v_loss))\n",
    "\n",
    "            if v_loss < 0.995 * min_avloss:\n",
    "                min_avloss = v_loss\n",
    "                torch.save(model.state_dict(), MODELFILE)\n",
    "            \n",
    "    print()\n",
    "\n",
    "plot_loss_curve([X, T, V])"
   ]
  },
  {
   "cell_type": "markdown",
   "metadata": {},
   "source": [
    "# TEST"
   ]
  },
  {
   "cell_type": "code",
   "execution_count": 19,
   "metadata": {},
   "outputs": [
    {
     "data": {
      "text/plain": [
       "Sequential(\n",
       "  (0): Linear(in_features=8, out_features=4, bias=True)\n",
       "  (1): ReLU()\n",
       "  (2): BatchNorm1d(4, eps=1e-05, momentum=0.1, affine=True, track_running_stats=True)\n",
       "  (3): Dropout(p=0.2, inplace=False)\n",
       "  (4): Linear(in_features=4, out_features=2, bias=True)\n",
       "  (5): ReLU()\n",
       "  (6): Linear(in_features=2, out_features=8, bias=True)\n",
       ")"
      ]
     },
     "execution_count": 19,
     "metadata": {},
     "output_type": "execute_result"
    }
   ],
   "source": [
    "from nnmodel import model\n",
    "\n",
    "model.load_state_dict(torch.load(MODELFILE, weights_only=True))\n",
    "\n",
    "model"
   ]
  },
  {
   "cell_type": "code",
   "execution_count": 21,
   "metadata": {},
   "outputs": [],
   "source": [
    "# standard measures of model performance\n",
    "from sklearn.metrics import roc_curve, auc\n",
    "\n",
    "def plot_ROC(y, D):\n",
    "    \n",
    "    bkg, sig, _ = roc_curve(y, D)\n",
    "    \n",
    "    roc_auc = auc(bkg, sig)\n",
    "    plt.figure(figsize=(3.5, 3.5))\n",
    "\n",
    "    plt.xlim([0.0, 1.0])\n",
    "    plt.ylim([0.0, 1.0])\n",
    "    plt.xlabel('$f_0(D)$', fontsize=12)\n",
    "    plt.ylabel('$f_1(D)$', fontsize=12)\n",
    "    \n",
    "    plt.plot(bkg, sig, color='red',\n",
    "             lw=1, label='ROC curve, AUC = %0.2f)' % roc_auc)\n",
    "    \n",
    "    plt.plot([0, 1], [0, 1], color='blue', lw=1, linestyle='--')\n",
    "\n",
    "    plt.legend(loc=\"lower right\", fontsize=11)\n",
    "    \n",
    "    plt.savefig(\"ROC.png\")\n",
    "    plt.show()"
   ]
  },
  {
   "cell_type": "code",
   "execution_count": 20,
   "metadata": {},
   "outputs": [
    {
     "data": {
      "text/plain": [
       "(torch.Size([397152, 8]), torch.Size([397152, 8]))"
      ]
     },
     "execution_count": 20,
     "metadata": {},
     "output_type": "execute_result"
    }
   ],
   "source": [
    "test_x.shape, test_y.shape"
   ]
  },
  {
   "cell_type": "code",
   "execution_count": 36,
   "metadata": {},
   "outputs": [],
   "source": [
    "\n",
    "def plot_xy(y, D):\n",
    "    plt.figure(figsize=(3.5, 3.5))\n",
    "    \n",
    "    plt.imshow(y-D.detach().numpy())\n",
    "    \n",
    "    plt.savefig(\"xy.png\")\n",
    "    plt.show()"
   ]
  },
  {
   "cell_type": "code",
   "execution_count": 35,
   "metadata": {},
   "outputs": [
    {
     "name": "stderr",
     "output_type": "stream",
     "text": [
      "/tmp/ipykernel_170988/2595655790.py:1: DeprecationWarning: __array_wrap__ must accept context and return_scalar arguments (positionally) in the future. (Deprecated NumPy 2.0)\n",
      "  diff_xy = test_y-model(test_x).detach().numpy()\n"
     ]
    },
    {
     "data": {
      "text/plain": [
       "tensor([ 1.7486e-01, -2.3015e-02,  7.7408e-01, -6.3802e-01,  1.5116e+00,\n",
       "        -6.6793e-01,  1.2687e+03,  3.2144e-01])"
      ]
     },
     "execution_count": 35,
     "metadata": {},
     "output_type": "execute_result"
    }
   ],
   "source": [
    "diff_xy = test_y-model(test_x).detach().numpy()\n",
    "diff_sum = diff_xy.mean(axis=0)\n",
    "diff_sum"
   ]
  },
  {
   "cell_type": "code",
   "execution_count": null,
   "metadata": {},
   "outputs": [],
   "source": []
  }
 ],
 "metadata": {
  "kernelspec": {
   "display_name": "Python 3 (ipykernel)",
   "language": "python",
   "name": "python3"
  },
  "language_info": {
   "codemirror_mode": {
    "name": "ipython",
    "version": 3
   },
   "file_extension": ".py",
   "mimetype": "text/x-python",
   "name": "python",
   "nbconvert_exporter": "python",
   "pygments_lexer": "ipython3",
   "version": "3.10.12"
  }
 },
 "nbformat": 4,
 "nbformat_minor": 4
}
